{
 "cells": [
  {
   "cell_type": "code",
   "execution_count": 2,
   "metadata": {
    "pycharm": {
     "name": "#%%\n"
    }
   },
   "outputs": [],
   "source": [
    "import pandas as pd\n",
    "import geopandas as gpd\n",
    "import networkx as nx\n",
    "import plotly.graph_objects as go\n",
    "import numpy as np"
   ]
  },
  {
   "cell_type": "code",
   "execution_count": 3,
   "metadata": {
    "pycharm": {
     "name": "#%%\n"
    }
   },
   "outputs": [
    {
     "ename": "DriverError",
     "evalue": "/Users/natem/Data/raw_data/shapefiles/NA_states/bound_p.shx: No such file or directory",
     "output_type": "error",
     "traceback": [
      "\u001B[0;31m---------------------------------------------------------------------------\u001B[0m",
      "\u001B[0;31mCPLE_OpenFailedError\u001B[0m                      Traceback (most recent call last)",
      "File \u001B[0;32mfiona/_shim.pyx:83\u001B[0m, in \u001B[0;36mfiona._shim.gdal_open_vector\u001B[0;34m()\u001B[0m\n",
      "File \u001B[0;32mfiona/_err.pyx:291\u001B[0m, in \u001B[0;36mfiona._err.exc_wrap_pointer\u001B[0;34m()\u001B[0m\n",
      "\u001B[0;31mCPLE_OpenFailedError\u001B[0m: /Users/natem/Data/raw_data/shapefiles/NA_states/bound_p.shx: No such file or directory",
      "\nDuring handling of the above exception, another exception occurred:\n",
      "\u001B[0;31mDriverError\u001B[0m                               Traceback (most recent call last)",
      "Cell \u001B[0;32mIn [3], line 1\u001B[0m\n\u001B[0;32m----> 1\u001B[0m states \u001B[38;5;241m=\u001B[39m \u001B[43mgpd\u001B[49m\u001B[38;5;241;43m.\u001B[39;49m\u001B[43mread_file\u001B[49m\u001B[43m(\u001B[49m\u001B[43m \u001B[49m\u001B[38;5;124;43m\"\u001B[39;49m\u001B[38;5;124;43m/Users/natem/Data/raw_data/shapefiles/NA_states/bound_p.shx\u001B[39;49m\u001B[38;5;124;43m\"\u001B[39;49m\u001B[43m \u001B[49m\u001B[43m)\u001B[49m\n\u001B[1;32m      2\u001B[0m states \u001B[38;5;241m=\u001B[39m states\u001B[38;5;241m.\u001B[39mloc[states[\u001B[38;5;124m\"\u001B[39m\u001B[38;5;124mCOUNTRY\u001B[39m\u001B[38;5;124m\"\u001B[39m]\u001B[38;5;241m.\u001B[39misin([\u001B[38;5;124m\"\u001B[39m\u001B[38;5;124mUSA\u001B[39m\u001B[38;5;124m\"\u001B[39m, \u001B[38;5;124m\"\u001B[39m\u001B[38;5;124mMEX\u001B[39m\u001B[38;5;124m\"\u001B[39m, \u001B[38;5;124m\"\u001B[39m\u001B[38;5;124mCAN\u001B[39m\u001B[38;5;124m\"\u001B[39m])]\n\u001B[1;32m      3\u001B[0m states \u001B[38;5;241m=\u001B[39m states\u001B[38;5;241m.\u001B[39mdrop( columns\u001B[38;5;241m=\u001B[39m[\u001B[38;5;124m\"\u001B[39m\u001B[38;5;124mOBJECTID\u001B[39m\u001B[38;5;124m\"\u001B[39m, \u001B[38;5;124m\"\u001B[39m\u001B[38;5;124mBOUND_P_\u001B[39m\u001B[38;5;124m\"\u001B[39m, \u001B[38;5;124m\"\u001B[39m\u001B[38;5;124mUIDENT\u001B[39m\u001B[38;5;124m\"\u001B[39m, \u001B[38;5;124m\"\u001B[39m\u001B[38;5;124mSTATEABB\u001B[39m\u001B[38;5;124m\"\u001B[39m, \u001B[38;5;124m\"\u001B[39m\u001B[38;5;124mShape_Area\u001B[39m\u001B[38;5;124m\"\u001B[39m, \u001B[38;5;124m\"\u001B[39m\u001B[38;5;124mShape_Leng\u001B[39m\u001B[38;5;124m\"\u001B[39m])\n",
      "File \u001B[0;32m/usr/local/lib/python3.9/site-packages/geopandas/io/file.py:160\u001B[0m, in \u001B[0;36m_read_file\u001B[0;34m(filename, bbox, mask, rows, **kwargs)\u001B[0m\n\u001B[1;32m    157\u001B[0m     reader \u001B[38;5;241m=\u001B[39m fiona\u001B[38;5;241m.\u001B[39mopen\n\u001B[1;32m    159\u001B[0m \u001B[38;5;28;01mwith\u001B[39;00m fiona_env():\n\u001B[0;32m--> 160\u001B[0m     \u001B[38;5;28;01mwith\u001B[39;00m \u001B[43mreader\u001B[49m\u001B[43m(\u001B[49m\u001B[43mpath_or_bytes\u001B[49m\u001B[43m,\u001B[49m\u001B[43m \u001B[49m\u001B[38;5;241;43m*\u001B[39;49m\u001B[38;5;241;43m*\u001B[39;49m\u001B[43mkwargs\u001B[49m\u001B[43m)\u001B[49m \u001B[38;5;28;01mas\u001B[39;00m features:\n\u001B[1;32m    161\u001B[0m \n\u001B[1;32m    162\u001B[0m         \u001B[38;5;66;03m# In a future Fiona release the crs attribute of features will\u001B[39;00m\n\u001B[1;32m    163\u001B[0m         \u001B[38;5;66;03m# no longer be a dict, but will behave like a dict. So this should\u001B[39;00m\n\u001B[1;32m    164\u001B[0m         \u001B[38;5;66;03m# be forwards compatible\u001B[39;00m\n\u001B[1;32m    165\u001B[0m         crs \u001B[38;5;241m=\u001B[39m (\n\u001B[1;32m    166\u001B[0m             features\u001B[38;5;241m.\u001B[39mcrs[\u001B[38;5;124m\"\u001B[39m\u001B[38;5;124minit\u001B[39m\u001B[38;5;124m\"\u001B[39m]\n\u001B[1;32m    167\u001B[0m             \u001B[38;5;28;01mif\u001B[39;00m features\u001B[38;5;241m.\u001B[39mcrs \u001B[38;5;129;01mand\u001B[39;00m \u001B[38;5;124m\"\u001B[39m\u001B[38;5;124minit\u001B[39m\u001B[38;5;124m\"\u001B[39m \u001B[38;5;129;01min\u001B[39;00m features\u001B[38;5;241m.\u001B[39mcrs\n\u001B[1;32m    168\u001B[0m             \u001B[38;5;28;01melse\u001B[39;00m features\u001B[38;5;241m.\u001B[39mcrs_wkt\n\u001B[1;32m    169\u001B[0m         )\n\u001B[1;32m    171\u001B[0m         \u001B[38;5;66;03m# handle loading the bounding box\u001B[39;00m\n",
      "File \u001B[0;32m/usr/local/lib/python3.9/site-packages/fiona/env.py:408\u001B[0m, in \u001B[0;36mensure_env_with_credentials.<locals>.wrapper\u001B[0;34m(*args, **kwargs)\u001B[0m\n\u001B[1;32m    405\u001B[0m \u001B[38;5;129m@wraps\u001B[39m(f)\n\u001B[1;32m    406\u001B[0m \u001B[38;5;28;01mdef\u001B[39;00m \u001B[38;5;21mwrapper\u001B[39m(\u001B[38;5;241m*\u001B[39margs, \u001B[38;5;241m*\u001B[39m\u001B[38;5;241m*\u001B[39mkwargs):\n\u001B[1;32m    407\u001B[0m     \u001B[38;5;28;01mif\u001B[39;00m local\u001B[38;5;241m.\u001B[39m_env:\n\u001B[0;32m--> 408\u001B[0m         \u001B[38;5;28;01mreturn\u001B[39;00m \u001B[43mf\u001B[49m\u001B[43m(\u001B[49m\u001B[38;5;241;43m*\u001B[39;49m\u001B[43margs\u001B[49m\u001B[43m,\u001B[49m\u001B[43m \u001B[49m\u001B[38;5;241;43m*\u001B[39;49m\u001B[38;5;241;43m*\u001B[39;49m\u001B[43mkwargs\u001B[49m\u001B[43m)\u001B[49m\n\u001B[1;32m    409\u001B[0m     \u001B[38;5;28;01melse\u001B[39;00m:\n\u001B[1;32m    410\u001B[0m         \u001B[38;5;28;01mif\u001B[39;00m \u001B[38;5;28misinstance\u001B[39m(args[\u001B[38;5;241m0\u001B[39m], \u001B[38;5;28mstr\u001B[39m):\n",
      "File \u001B[0;32m/usr/local/lib/python3.9/site-packages/fiona/__init__.py:264\u001B[0m, in \u001B[0;36mopen\u001B[0;34m(fp, mode, driver, schema, crs, encoding, layer, vfs, enabled_drivers, crs_wkt, **kwargs)\u001B[0m\n\u001B[1;32m    261\u001B[0m     path \u001B[38;5;241m=\u001B[39m parse_path(fp)\n\u001B[1;32m    263\u001B[0m \u001B[38;5;28;01mif\u001B[39;00m mode \u001B[38;5;129;01min\u001B[39;00m (\u001B[38;5;124m'\u001B[39m\u001B[38;5;124ma\u001B[39m\u001B[38;5;124m'\u001B[39m, \u001B[38;5;124m'\u001B[39m\u001B[38;5;124mr\u001B[39m\u001B[38;5;124m'\u001B[39m):\n\u001B[0;32m--> 264\u001B[0m     c \u001B[38;5;241m=\u001B[39m \u001B[43mCollection\u001B[49m\u001B[43m(\u001B[49m\u001B[43mpath\u001B[49m\u001B[43m,\u001B[49m\u001B[43m \u001B[49m\u001B[43mmode\u001B[49m\u001B[43m,\u001B[49m\u001B[43m \u001B[49m\u001B[43mdriver\u001B[49m\u001B[38;5;241;43m=\u001B[39;49m\u001B[43mdriver\u001B[49m\u001B[43m,\u001B[49m\u001B[43m \u001B[49m\u001B[43mencoding\u001B[49m\u001B[38;5;241;43m=\u001B[39;49m\u001B[43mencoding\u001B[49m\u001B[43m,\u001B[49m\n\u001B[1;32m    265\u001B[0m \u001B[43m                   \u001B[49m\u001B[43mlayer\u001B[49m\u001B[38;5;241;43m=\u001B[39;49m\u001B[43mlayer\u001B[49m\u001B[43m,\u001B[49m\u001B[43m \u001B[49m\u001B[43menabled_drivers\u001B[49m\u001B[38;5;241;43m=\u001B[39;49m\u001B[43menabled_drivers\u001B[49m\u001B[43m,\u001B[49m\u001B[43m \u001B[49m\u001B[38;5;241;43m*\u001B[39;49m\u001B[38;5;241;43m*\u001B[39;49m\u001B[43mkwargs\u001B[49m\u001B[43m)\u001B[49m\n\u001B[1;32m    266\u001B[0m \u001B[38;5;28;01melif\u001B[39;00m mode \u001B[38;5;241m==\u001B[39m \u001B[38;5;124m'\u001B[39m\u001B[38;5;124mw\u001B[39m\u001B[38;5;124m'\u001B[39m:\n\u001B[1;32m    267\u001B[0m     \u001B[38;5;28;01mif\u001B[39;00m schema:\n\u001B[1;32m    268\u001B[0m         \u001B[38;5;66;03m# Make an ordered dict of schema properties.\u001B[39;00m\n",
      "File \u001B[0;32m/usr/local/lib/python3.9/site-packages/fiona/collection.py:162\u001B[0m, in \u001B[0;36mCollection.__init__\u001B[0;34m(self, path, mode, driver, schema, crs, encoding, layer, vsi, archive, enabled_drivers, crs_wkt, ignore_fields, ignore_geometry, **kwargs)\u001B[0m\n\u001B[1;32m    160\u001B[0m \u001B[38;5;28;01mif\u001B[39;00m \u001B[38;5;28mself\u001B[39m\u001B[38;5;241m.\u001B[39mmode \u001B[38;5;241m==\u001B[39m \u001B[38;5;124m'\u001B[39m\u001B[38;5;124mr\u001B[39m\u001B[38;5;124m'\u001B[39m:\n\u001B[1;32m    161\u001B[0m     \u001B[38;5;28mself\u001B[39m\u001B[38;5;241m.\u001B[39msession \u001B[38;5;241m=\u001B[39m Session()\n\u001B[0;32m--> 162\u001B[0m     \u001B[38;5;28;43mself\u001B[39;49m\u001B[38;5;241;43m.\u001B[39;49m\u001B[43msession\u001B[49m\u001B[38;5;241;43m.\u001B[39;49m\u001B[43mstart\u001B[49m\u001B[43m(\u001B[49m\u001B[38;5;28;43mself\u001B[39;49m\u001B[43m,\u001B[49m\u001B[43m \u001B[49m\u001B[38;5;241;43m*\u001B[39;49m\u001B[38;5;241;43m*\u001B[39;49m\u001B[43mkwargs\u001B[49m\u001B[43m)\u001B[49m\n\u001B[1;32m    163\u001B[0m \u001B[38;5;28;01melif\u001B[39;00m \u001B[38;5;28mself\u001B[39m\u001B[38;5;241m.\u001B[39mmode \u001B[38;5;129;01min\u001B[39;00m (\u001B[38;5;124m'\u001B[39m\u001B[38;5;124ma\u001B[39m\u001B[38;5;124m'\u001B[39m, \u001B[38;5;124m'\u001B[39m\u001B[38;5;124mw\u001B[39m\u001B[38;5;124m'\u001B[39m):\n\u001B[1;32m    164\u001B[0m     \u001B[38;5;28mself\u001B[39m\u001B[38;5;241m.\u001B[39msession \u001B[38;5;241m=\u001B[39m WritingSession()\n",
      "File \u001B[0;32mfiona/ogrext.pyx:540\u001B[0m, in \u001B[0;36mfiona.ogrext.Session.start\u001B[0;34m()\u001B[0m\n",
      "File \u001B[0;32mfiona/_shim.pyx:90\u001B[0m, in \u001B[0;36mfiona._shim.gdal_open_vector\u001B[0;34m()\u001B[0m\n",
      "\u001B[0;31mDriverError\u001B[0m: /Users/natem/Data/raw_data/shapefiles/NA_states/bound_p.shx: No such file or directory"
     ]
    }
   ],
   "source": [
    "states = gpd.read_file( \"/Users/natem/Data/raw_data/shapefiles/NA_states/bound_p.shx\" )\n",
    "states = states.loc[states[\"COUNTRY\"].isin([\"USA\", \"MEX\", \"CAN\"])]\n",
    "states = states.drop( columns=[\"OBJECTID\", \"BOUND_P_\", \"UIDENT\", \"STATEABB\", \"Shape_Area\", \"Shape_Leng\"])\n",
    "states = states.dissolve( \"NAME\" ).reset_index()\n",
    "states[\"NAME\"] = states[\"NAME\"].replace( {\"British Columbia / Colombie-Britannique\": \"British Columbia\", \"Quebec / Québec\" : \"Québec\", \"Nova Scotia / Nouvelle-Écosse\" : \"Nova Scotia\"} )\n",
    "states[\"NAME\"] = states[\"NAME\"] + \", \" + states[\"COUNTRY\"]\n",
    "states = states.loc[~states[\"NAME\"].isin( [\"California, USA\",\"water/agua/d'eau, CAN\"] )]\n",
    "\n",
    "ca = gpd.read_file( \"/Users/natem/Data/raw_data/shapefiles/USA_county/gadm36_USA_2.shx\" )\n",
    "ca = ca.loc[ca[\"NAME_1\"]==\"California\",[\"NAME_2\", \"geometry\"]]\n",
    "ca[\"COUNTRY\"] = \"USA\"\n",
    "ca.columns = [\"NAME\", \"geometry\", \"COUNTRY\"]\n",
    "ca = ca.dissolve( \"NAME\").reset_index()\n",
    "ca[\"NAME\"] = ca[\"NAME\"] + \", CA\"\n",
    "\n",
    "states = pd.concat( [states,ca], ignore_index=True )\n",
    "states[\"centroid_x\"] = states[\"geometry\"].centroid.x\n",
    "states[\"centroid_y\"] = states[\"geometry\"].centroid.y\n",
    "states = states.set_index( \"NAME\" )\n",
    "states"
   ]
  },
  {
   "cell_type": "code",
   "execution_count": 11,
   "metadata": {
    "pycharm": {
     "name": "#%%\n"
    }
   },
   "outputs": [
    {
     "name": "stdout",
     "output_type": "stream",
     "text": [
      "removed 22850 entries for having too few sequences.\n",
      "removed 4189 entries for not being present in shapefile\n"
     ]
    },
    {
     "data": {
      "text/html": [
       "<div>\n",
       "<style scoped>\n",
       "    .dataframe tbody tr th:only-of-type {\n",
       "        vertical-align: middle;\n",
       "    }\n",
       "\n",
       "    .dataframe tbody tr th {\n",
       "        vertical-align: top;\n",
       "    }\n",
       "\n",
       "    .dataframe thead th {\n",
       "        text-align: right;\n",
       "    }\n",
       "</style>\n",
       "<table border=\"1\" class=\"dataframe\">\n",
       "  <thead>\n",
       "    <tr style=\"text-align: right;\">\n",
       "      <th></th>\n",
       "      <th>blA</th>\n",
       "      <th>blB</th>\n",
       "      <th>blBoth</th>\n",
       "      <th>date</th>\n",
       "      <th>siteA</th>\n",
       "      <th>countA</th>\n",
       "      <th>siteB</th>\n",
       "      <th>countB</th>\n",
       "      <th>value</th>\n",
       "      <th>value_turn</th>\n",
       "    </tr>\n",
       "  </thead>\n",
       "  <tbody>\n",
       "    <tr>\n",
       "      <th>0</th>\n",
       "      <td>342.0</td>\n",
       "      <td>1371.0</td>\n",
       "      <td>84.0</td>\n",
       "      <td>2020-03-01</td>\n",
       "      <td>Texas, USA</td>\n",
       "      <td>299</td>\n",
       "      <td>New York, USA</td>\n",
       "      <td>1951</td>\n",
       "      <td>0.098074</td>\n",
       "      <td>0.245614</td>\n",
       "    </tr>\n",
       "    <tr>\n",
       "      <th>1</th>\n",
       "      <td>654.0</td>\n",
       "      <td>1496.0</td>\n",
       "      <td>67.0</td>\n",
       "      <td>2020-04-01</td>\n",
       "      <td>Texas, USA</td>\n",
       "      <td>591</td>\n",
       "      <td>New York, USA</td>\n",
       "      <td>1110</td>\n",
       "      <td>0.062326</td>\n",
       "      <td>0.102446</td>\n",
       "    </tr>\n",
       "    <tr>\n",
       "      <th>2</th>\n",
       "      <td>753.0</td>\n",
       "      <td>496.0</td>\n",
       "      <td>24.0</td>\n",
       "      <td>2020-05-01</td>\n",
       "      <td>Texas, USA</td>\n",
       "      <td>535</td>\n",
       "      <td>New York, USA</td>\n",
       "      <td>260</td>\n",
       "      <td>0.038431</td>\n",
       "      <td>0.048387</td>\n",
       "    </tr>\n",
       "    <tr>\n",
       "      <th>3</th>\n",
       "      <td>4081.0</td>\n",
       "      <td>212.0</td>\n",
       "      <td>45.0</td>\n",
       "      <td>2020-06-01</td>\n",
       "      <td>Texas, USA</td>\n",
       "      <td>3510</td>\n",
       "      <td>New York, USA</td>\n",
       "      <td>61</td>\n",
       "      <td>0.020964</td>\n",
       "      <td>0.212264</td>\n",
       "    </tr>\n",
       "    <tr>\n",
       "      <th>4</th>\n",
       "      <td>10563.0</td>\n",
       "      <td>464.0</td>\n",
       "      <td>130.0</td>\n",
       "      <td>2020-07-01</td>\n",
       "      <td>Texas, USA</td>\n",
       "      <td>6370</td>\n",
       "      <td>New York, USA</td>\n",
       "      <td>144</td>\n",
       "      <td>0.023578</td>\n",
       "      <td>0.280172</td>\n",
       "    </tr>\n",
       "  </tbody>\n",
       "</table>\n",
       "</div>"
      ],
      "text/plain": [
       "       blA     blB  blBoth       date       siteA  countA          siteB  \\\n",
       "0    342.0  1371.0    84.0 2020-03-01  Texas, USA     299  New York, USA   \n",
       "1    654.0  1496.0    67.0 2020-04-01  Texas, USA     591  New York, USA   \n",
       "2    753.0   496.0    24.0 2020-05-01  Texas, USA     535  New York, USA   \n",
       "3   4081.0   212.0    45.0 2020-06-01  Texas, USA    3510  New York, USA   \n",
       "4  10563.0   464.0   130.0 2020-07-01  Texas, USA    6370  New York, USA   \n",
       "\n",
       "   countB     value  value_turn  \n",
       "0    1951  0.098074    0.245614  \n",
       "1    1110  0.062326    0.102446  \n",
       "2     260  0.038431    0.048387  \n",
       "3      61  0.020964    0.212264  \n",
       "4     144  0.023578    0.280172  "
      ]
     },
     "execution_count": 11,
     "metadata": {},
     "output_type": "execute_result"
    }
   ],
   "source": [
    "min_sequences = 30\n",
    "res = pd.read_csv( \"phylosor_results.csv\", parse_dates=[\"date\"] )\n",
    "res = res.drop( columns=[\"kind\", \"num\"] )\n",
    "\n",
    "size = res.shape[0]\n",
    "res = res.loc[(res[\"countA\"]>=min_sequences)&(res[\"countB\"]>=min_sequences)]\n",
    "print( f\"removed {size - res.shape[0]} entries for having too few sequences.\" )\n",
    "\n",
    "\n",
    "res[\"siteA\"] = res[\"siteA\"].str.replace( \"_\", \", \")\n",
    "res[\"siteB\"] = res[\"siteB\"].str.replace( \"_\", \", \")\n",
    "\n",
    "size = res.shape[0]\n",
    "res = res.loc[res[\"siteA\"].isin( states[\"NAME\"] )&res[\"siteB\"].isin( states[\"NAME\"] )]\n",
    "print( f\"removed {size - res.shape[0]} entries because either site was not present in shapefile\" )\n",
    "\n",
    "res.head()"
   ]
  },
  {
   "cell_type": "code",
   "execution_count": 103,
   "metadata": {
    "pycharm": {
     "name": "#%%\n"
    }
   },
   "outputs": [],
   "source": [
    "sd = res.query( \"(siteA =='San Diego, CA')|(siteB == 'San Diego, CA')\")\n",
    "\n",
    "\n",
    "G = nx.from_pandas_edgelist( \n",
    "    sd.loc[sd[\"date\"]==\"2020-05-01\"], \n",
    "    source=\"siteA\",\n",
    "    target=\"siteB\", \n",
    "    edge_attr=\"value\"\n",
    ")\n",
    "for node in G.nodes():\n",
    "    G.nodes[node][\"pos\"] = (states.loc[node,[\"centroid_x\",\"centroid_y\"]].to_list())"
   ]
  },
  {
   "cell_type": "code",
   "execution_count": 164,
   "metadata": {
    "pycharm": {
     "name": "#%%\n"
    }
   },
   "outputs": [
    {
     "data": {
      "application/vnd.plotly.v1+json": {
       "config": {
        "plotlyServerURL": "https://plot.ly"
       },
       "data": [
        {
         "hoverinfo": "none",
         "lat": [
          31.497195858694962,
          33.034679614504036
         ],
         "line": {
          "color": "#888",
          "width": 1
         },
         "lon": [
          -99.36088200586725,
          -116.73219428916529
         ],
         "mode": "lines",
         "opacity": 0.192928411937515,
         "showlegend": false,
         "type": "scattergeo"
        },
        {
         "hoverinfo": "none",
         "lat": [
          33.034679614504036,
          42.95641755808824
         ],
         "line": {
          "color": "#888",
          "width": 1
         },
         "lon": [
          -116.73219428916529,
          -75.52302764326772
         ],
         "mode": "lines",
         "opacity": 0.23214493960849633,
         "showlegend": false,
         "type": "scattergeo"
        },
        {
         "hoverinfo": "none",
         "lat": [
          33.034679614504036,
          38.999272304945244
         ],
         "line": {
          "color": "#888",
          "width": 1
         },
         "lon": [
          -116.73219428916529,
          -105.54742434895037
         ],
         "mode": "lines",
         "opacity": 0.12511194309542875,
         "showlegend": false,
         "type": "scattergeo"
        },
        {
         "hoverinfo": "none",
         "lat": [
          33.034679614504036,
          28.655766280687033
         ],
         "line": {
          "color": "#888",
          "width": 1
         },
         "lon": [
          -116.73219428916529,
          -82.48909058172815
         ],
         "mode": "lines",
         "opacity": 0.21818319416765475,
         "showlegend": false,
         "type": "scattergeo"
        },
        {
         "hoverinfo": "none",
         "lat": [
          33.034679614504036,
          42.265215615858125
         ],
         "line": {
          "color": "#888",
          "width": 1
         },
         "lon": [
          -116.73219428916529,
          -71.83135850229266
         ],
         "mode": "lines",
         "opacity": 0.2526627599221767,
         "showlegend": false,
         "type": "scattergeo"
        },
        {
         "hoverinfo": "none",
         "lat": [
          33.034679614504036,
          54.770043982902244
         ],
         "line": {
          "color": "#888",
          "width": 1
         },
         "lon": [
          -116.73219428916529,
          -124.73930124501719
         ],
         "mode": "lines",
         "opacity": 0.1535842623712985,
         "showlegend": false,
         "type": "scattergeo"
        },
        {
         "hoverinfo": "none",
         "lat": [
          33.034679614504036,
          46.318485059679716
         ],
         "line": {
          "color": "#888",
          "width": 1
         },
         "lon": [
          -116.73219428916529,
          -94.30803002128881
         ],
         "mode": "lines",
         "opacity": 0.16545763412226505,
         "showlegend": false,
         "type": "scattergeo"
        },
        {
         "hoverinfo": "none",
         "lat": [
          33.034679614504036,
          47.380258785903145
         ],
         "line": {
          "color": "#888",
          "width": 1
         },
         "lon": [
          -116.73219428916529,
          -120.42895224780035
         ],
         "mode": "lines",
         "opacity": 0.16131845571735326,
         "showlegend": false,
         "type": "scattergeo"
        },
        {
         "hoverinfo": "none",
         "lat": [
          33.034679614504036,
          34.29899140010055
         ],
         "line": {
          "color": "#888",
          "width": 1
         },
         "lon": [
          -116.73219428916529,
          -111.6621659452277
         ],
         "mode": "lines",
         "opacity": 0.24604596998653752,
         "showlegend": false,
         "type": "scattergeo"
        },
        {
         "hoverinfo": "none",
         "lat": [
          33.034679614504036,
          39.32480745803587
         ],
         "line": {
          "color": "#888",
          "width": 1
         },
         "lon": [
          -116.73219428916529,
          -111.67763833565171
         ],
         "mode": "lines",
         "opacity": 0.20434151896461294,
         "showlegend": false,
         "type": "scattergeo"
        },
        {
         "hoverinfo": "none",
         "lat": [
          33.034679614504036,
          50.43597727084477
         ],
         "line": {
          "color": "#888",
          "width": 1
         },
         "lon": [
          -116.73219428916529,
          -86.07191471031808
         ],
         "mode": "lines",
         "opacity": 0.2046495119787044,
         "showlegend": false,
         "type": "scattergeo"
        },
        {
         "hoverinfo": "none",
         "lat": [
          33.034679614504036,
          40.066667478173414
         ],
         "line": {
          "color": "#888",
          "width": 1
         },
         "lon": [
          -116.73219428916529,
          -89.19767230902852
         ],
         "mode": "lines",
         "opacity": 0.2062254110353647,
         "showlegend": false,
         "type": "scattergeo"
        },
        {
         "hoverinfo": "none",
         "lat": [
          33.034679614504036,
          44.32902741389524
         ],
         "line": {
          "color": "#888",
          "width": 1
         },
         "lon": [
          -116.73219428916529,
          -85.41523148236314
         ],
         "mode": "lines",
         "opacity": 0.23028076201126246,
         "showlegend": false,
         "type": "scattergeo"
        },
        {
         "hoverinfo": "none",
         "lat": [
          33.034679614504036,
          40.87444013849723
         ],
         "line": {
          "color": "#888",
          "width": 1
         },
         "lon": [
          -116.73219428916529,
          -77.80074337206577
         ],
         "mode": "lines",
         "opacity": 0.3010475577869295,
         "showlegend": false,
         "type": "scattergeo"
        },
        {
         "hoverinfo": "none",
         "lat": [
          33.034679614504036,
          37.517691573632405
         ],
         "line": {
          "color": "#888",
          "width": 1
         },
         "lon": [
          -116.73219428916529,
          -78.85403853567156
         ],
         "mode": "lines",
         "opacity": 0.21013119533527702,
         "showlegend": false,
         "type": "scattergeo"
        },
        {
         "hoverinfo": "none",
         "lat": [
          33.034679614504036,
          44.65202141167733
         ],
         "line": {
          "color": "#888",
          "width": 1
         },
         "lon": [
          -116.73219428916529,
          -90.00565843905422
         ],
         "mode": "lines",
         "opacity": 0.23347910592808532,
         "showlegend": false,
         "type": "scattergeo"
        },
        {
         "hoverinfo": "none",
         "lat": [
          33.034679614504036,
          39.062564401916624
         ],
         "line": {
          "color": "#888",
          "width": 1
         },
         "lon": [
          -116.73219428916529,
          -76.81222332353195
         ],
         "mode": "lines",
         "opacity": 0.1681049562682216,
         "showlegend": false,
         "type": "scattergeo"
        },
        {
         "hoverinfo": "none",
         "lat": [
          33.034679614504036,
          40.29117389845186
         ],
         "line": {
          "color": "#888",
          "width": 1
         },
         "lon": [
          -116.73219428916529,
          -82.79028453499966
         ],
         "mode": "lines",
         "opacity": 0.22809356345755946,
         "showlegend": false,
         "type": "scattergeo"
        },
        {
         "hoverinfo": "none",
         "lat": [
          33.034679614504036,
          55.17292103831119
         ],
         "line": {
          "color": "#888",
          "width": 1
         },
         "lon": [
          -116.73219428916529,
          -114.50917790059957
         ],
         "mode": "lines",
         "opacity": 0.13727163514364799,
         "showlegend": false,
         "type": "scattergeo"
        },
        {
         "hoverinfo": "none",
         "lat": [
          33.034679614504036,
          43.936153064481985
         ],
         "line": {
          "color": "#888",
          "width": 1
         },
         "lon": [
          -116.73219428916529,
          -120.54723078796812
         ],
         "mode": "lines",
         "opacity": 0.23378834977699658,
         "showlegend": false,
         "type": "scattergeo"
        },
        {
         "hoverinfo": "none",
         "lat": [
          33.034679614504036,
          53.38257538442855
         ],
         "line": {
          "color": "#888",
          "width": 1
         },
         "lon": [
          -116.73219428916529,
          -71.79750955250563
         ],
         "mode": "lines",
         "opacity": 0.1438550970510452,
         "showlegend": false,
         "type": "scattergeo"
        },
        {
         "hoverinfo": "none",
         "lat": [
          33.034679614504036,
          39.356011095296225
         ],
         "line": {
          "color": "#888",
          "width": 1
         },
         "lon": [
          -116.73219428916529,
          -116.65393767084588
         ],
         "mode": "lines",
         "opacity": 0.32961756131023845,
         "showlegend": false,
         "type": "scattergeo"
        },
        {
         "hoverinfo": "none",
         "lat": [
          33.034679614504036,
          34.41572523351013
         ],
         "line": {
          "color": "#888",
          "width": 1
         },
         "lon": [
          -116.73219428916529,
          -106.1104258249509
         ],
         "mode": "lines",
         "opacity": 0.20920821790335017,
         "showlegend": false,
         "type": "scattergeo"
        },
        {
         "hoverinfo": "none",
         "lat": [
          33.034679614504036,
          31.09369751735696
         ],
         "line": {
          "color": "#888",
          "width": 1
         },
         "lon": [
          -116.73219428916529,
          -92.03364974511939
         ],
         "mode": "lines",
         "opacity": 0.13095995176702777,
         "showlegend": false,
         "type": "scattergeo"
        },
        {
         "hoverinfo": "none",
         "lat": [
          33.034679614504036,
          34.32182297320054
         ],
         "line": {
          "color": "#888",
          "width": 1
         },
         "lon": [
          -116.73219428916529,
          -118.22668057633888
         ],
         "mode": "lines",
         "opacity": 0.28682596395913146,
         "showlegend": false,
         "type": "scattergeo"
        },
        {
         "hoverinfo": "none",
         "lat": [
          33.034679614504036,
          38.36630116092656
         ],
         "line": {
          "color": "#888",
          "width": 1
         },
         "lon": [
          -116.73219428916529,
          -92.47572716210433
         ],
         "mode": "lines",
         "opacity": 0.18300695083632196,
         "showlegend": false,
         "type": "scattergeo"
        },
        {
         "hoverinfo": "none",
         "lat": [
          33.034679614504036,
          41.52770996729183
         ],
         "line": {
          "color": "#888",
          "width": 1
         },
         "lon": [
          -116.73219428916529,
          -99.80945235045104
         ],
         "mode": "lines",
         "opacity": 0.17109919213050534,
         "showlegend": false,
         "type": "scattergeo"
        },
        {
         "hoverinfo": "none",
         "lat": [
          33.034679614504036,
          33.919392400455166
         ],
         "line": {
          "color": "#888",
          "width": 1
         },
         "lon": [
          -116.73219428916529,
          -80.90210589228889
         ],
         "mode": "lines",
         "opacity": 0.1590898639762347,
         "showlegend": false,
         "type": "scattergeo"
        },
        {
         "hoverinfo": "none",
         "lat": [
          33.034679614504036,
          54.41884217956254
         ],
         "line": {
          "color": "#888",
          "width": 1
         },
         "lon": [
          -116.73219428916529,
          -105.88931005233748
         ],
         "mode": "lines",
         "opacity": 0.15332956210202625,
         "showlegend": false,
         "type": "scattergeo"
        },
        {
         "hoverinfo": "none",
         "lat": [
          33.034679614504036,
          38.48528246133222
         ],
         "line": {
          "color": "#888",
          "width": 1
         },
         "lon": [
          -116.73219428916529,
          -98.38046454513979
         ],
         "mode": "lines",
         "opacity": 0.13031391958776828,
         "showlegend": false,
         "type": "scattergeo"
        },
        {
         "hoverinfo": "none",
         "lat": [
          33.034679614504036,
          37.23123906016117
         ],
         "line": {
          "color": "#888",
          "width": 1
         },
         "lon": [
          -116.73219428916529,
          -121.69289119214972
         ],
         "mode": "lines",
         "opacity": 0.37259247152017805,
         "showlegend": false,
         "type": "scattergeo"
        },
        {
         "hoverinfo": "none",
         "lat": [
          33.034679614504036,
          37.64660316728161
         ],
         "line": {
          "color": "#888",
          "width": 1
         },
         "lon": [
          -116.73219428916529,
          -121.88716885009846
         ],
         "mode": "lines",
         "opacity": 0.29138192419825065,
         "showlegend": false,
         "type": "scattergeo"
        },
        {
         "hoverinfo": "none",
         "lat": [
          33.034679614504036,
          33.70302467917277
         ],
         "line": {
          "color": "#888",
          "width": 1
         },
         "lon": [
          -116.73219428916529,
          -117.76086188118907
         ],
         "mode": "lines",
         "opacity": 0.30607344978807827,
         "showlegend": false,
         "type": "scattergeo"
        },
        {
         "hoverinfo": "none",
         "lat": [
          33.034679614504036,
          30.555956452701384
         ],
         "line": {
          "color": "#888",
          "width": 1
         },
         "lon": [
          -116.73219428916529,
          -115.08819333928405
         ],
         "mode": "lines",
         "opacity": 0.537594530197866,
         "showlegend": false,
         "type": "scattergeo"
        },
        {
         "hoverinfo": "none",
         "lat": [
          33.034679614504036,
          33.04031085177393
         ],
         "line": {
          "color": "#888",
          "width": 1
         },
         "lon": [
          -116.73219428916529,
          -115.3636751369968
         ],
         "mode": "lines",
         "opacity": 0.38690823268082725,
         "showlegend": false,
         "type": "scattergeo"
        },
        {
         "hoverinfo": "text",
         "hovertext": [
          "Aguascalientes, MEX",
          "Alabama, USA",
          "Alaska, USA",
          "Alberta, CAN",
          "Arizona, USA",
          "Arkansas, USA",
          "Arrecife Alacrán, MEX",
          "Baja California, MEX",
          "Baja California Sur, MEX",
          "British Columbia, CAN",
          "Campeche, MEX",
          "Chiapas, MEX",
          "Chihuahua, MEX",
          "Coahuila de Zaragoza, MEX",
          "Colima, MEX",
          "Colorado, USA",
          "Connecticut, USA",
          "Delaware, USA",
          "District of Columbia, USA",
          "Distrito Federal, MEX",
          "Durango, MEX",
          "Florida, USA",
          "Georgia, USA",
          "Guanajuato, MEX",
          "Guerrero, MEX",
          "Hawaii, USA",
          "Hidalgo, MEX",
          "Idaho, USA",
          "Illinois, USA",
          "Indiana, USA",
          "Iowa, USA",
          "Jalisco, MEX",
          "Kansas, USA",
          "Kentucky, USA",
          "Louisiana, USA",
          "Maine, USA",
          "Manitoba, CAN",
          "Maryland, USA",
          "Massachusetts, USA",
          "Michigan, USA",
          "Michoacán de Ocampo, MEX",
          "Minnesota, USA",
          "Mississippi, USA",
          "Missouri, USA",
          "Montana, USA",
          "Morelos, MEX",
          "México, MEX",
          "Navassa Island, USA",
          "Nayarit, MEX",
          "Nebraska, USA",
          "Nevada, USA",
          "New Brunswick / Nouveau-Brunswick, CAN",
          "New Hampshire, USA",
          "New Jersey, USA",
          "New Mexico, USA",
          "New York, USA",
          "Newfoundland and Labrador / Terre-Neuve-et-Labrador, CAN",
          "North Carolina, USA",
          "North Dakota, USA",
          "Northwest Territories / Territoires du Nord-Ouest, CAN",
          "Nova Scotia, CAN",
          "Nuevo León, MEX",
          "Nunavut, CAN",
          "Oaxaca, MEX",
          "Ohio, USA",
          "Oklahoma, USA",
          "Ontario, CAN",
          "Oregon, USA",
          "Pennsylvania, USA",
          "Prince Edward Island / Île-du-Prince-Édouard, CAN",
          "Puebla, MEX",
          "Puerto Rico, USA",
          "Québec, CAN",
          "Querétaro de Arteaga, MEX",
          "Quintana Roo, MEX",
          "Rhode Island, USA",
          "San Luis Potosí, MEX",
          "Saskatchewan, CAN",
          "Sinaloa, MEX",
          "Sonora, MEX",
          "South Carolina, USA",
          "South Dakota, USA",
          "Tabasco, MEX",
          "Tamaulipas, MEX",
          "Tennessee, USA",
          "Texas, USA",
          "Tlaxcala, MEX",
          "United States Virgin Islands, USA",
          "Utah, USA",
          "Veracruz-Llave, MEX",
          "Vermont, USA",
          "Virginia, USA",
          "Washington, USA",
          "West Virginia, USA",
          "Wisconsin, USA",
          "Wyoming, USA",
          "Yucatán, MEX",
          "Yukon Territory / Territoire du Yukon, CAN",
          "Zacatecas, MEX",
          "Alameda, CA",
          "Alpine, CA",
          "Amador, CA",
          "Butte, CA",
          "Calaveras, CA",
          "Colusa, CA",
          "Contra Costa, CA",
          "Del Norte, CA",
          "El Dorado, CA",
          "Fresno, CA",
          "Glenn, CA",
          "Humboldt, CA",
          "Imperial, CA",
          "Inyo, CA",
          "Kern, CA",
          "Kings, CA",
          "Lake, CA",
          "Lassen, CA",
          "Los Angeles, CA",
          "Madera, CA",
          "Marin, CA",
          "Mariposa, CA",
          "Mendocino, CA",
          "Merced, CA",
          "Modoc, CA",
          "Mono, CA",
          "Monterey, CA",
          "Napa, CA",
          "Nevada, CA",
          "Orange, CA",
          "Placer, CA",
          "Plumas, CA",
          "Riverside, CA",
          "Sacramento, CA",
          "San Benito, CA",
          "San Bernardino, CA",
          "San Diego, CA",
          "San Francisco, CA",
          "San Joaquin, CA",
          "San Luis Obispo, CA",
          "San Mateo, CA",
          "Santa Barbara, CA",
          "Santa Clara, CA",
          "Santa Cruz, CA",
          "Shasta, CA",
          "Sierra, CA",
          "Siskiyou, CA",
          "Solano, CA",
          "Sonoma, CA",
          "Stanislaus, CA",
          "Sutter, CA",
          "Tehama, CA",
          "Trinity, CA",
          "Tulare, CA",
          "Tuolumne, CA",
          "Ventura, CA",
          "Yolo, CA",
          "Yuba, CA"
         ],
         "lat": [
          22.00286430846133,
          32.79503921902008,
          64.2772538023995,
          55.17292103831119,
          34.29899140010055,
          34.90027537581923,
          22.393202422145478,
          30.555956452701384,
          25.92951022411993,
          54.770043982902244,
          18.840855348625897,
          16.49270778941116,
          28.79645478755821,
          27.295667285064127,
          19.117074619158952,
          38.999272304945244,
          41.625704903876134,
          38.99391802349199,
          38.909689910499935,
          19.2784493328851,
          24.935716809101358,
          28.655766280687033,
          32.65690500631872,
          20.903790701350697,
          17.675843450237288,
          20.243100873315903,
          20.473090040938896,
          44.389601857754634,
          40.066667478173414,
          39.90729014798672,
          42.07584749859052,
          20.583034413624077,
          38.48528246133222,
          37.528160296743,
          31.09369751735696,
          45.39146840038977,
          54.92568044552876,
          39.062564401916624,
          42.265215615858125,
          44.32902741389524,
          19.204098221424392,
          46.318485059679716,
          32.7517915613179,
          38.36630116092656,
          47.034509996265264,
          18.74665405066504,
          19.373743848489823,
          18.407256393431435,
          21.838130824679038,
          41.52770996729183,
          39.356011095296225,
          46.62079034788019,
          43.68691138725592,
          40.19886540462451,
          34.41572523351013,
          42.95641755808824,
          52.89406622469694,
          35.546443576151475,
          47.446922085590224,
          66.33215522264649,
          45.141170408973814,
          25.57480594309557,
          71.02125047812994,
          16.968495936142585,
          40.29117389845186,
          35.583740998570924,
          50.43597727084477,
          43.936153064481985,
          40.87444013849723,
          46.394415324456546,
          19.019095349735153,
          18.224894842053203,
          53.38257538442855,
          20.840345848378732,
          19.609944635935314,
          41.67949679270535,
          22.613332833234907,
          54.41884217956254,
          25.01158916751733,
          29.711739761201994,
          33.919392400455166,
          44.4360396804313,
          17.939003720570632,
          24.284003258335403,
          35.84520571625496,
          31.497195858694962,
          19.42768333005091,
          18.01820142772459,
          39.32480745803587,
          19.362987010344465,
          44.074050569383786,
          37.517691573632405,
          47.380258785903145,
          38.64152445099433,
          44.65202141167733,
          43.00033316181058,
          20.65983086550385,
          63.63375869269598,
          23.27207549362695,
          37.64660316728161,
          38.59877297377513,
          38.446863425540506,
          39.6671811360148,
          38.20473349030506,
          39.17799522683877,
          37.917136049332065,
          41.743323784272185,
          38.77899085021486,
          36.75825755971659,
          39.59932161575543,
          40.69943914530492,
          33.04031085177393,
          36.51140391677814,
          35.342443228640086,
          36.07467093996385,
          39.10086237179942,
          40.67377182767087,
          34.32182297320054,
          37.21775040302321,
          38.07202874100096,
          37.58143752404243,
          39.440999168411935,
          37.19294943546059,
          41.59084492275933,
          37.93952823185074,
          36.21747682090933,
          38.507388734507536,
          39.301912225117206,
          33.70302467917277,
          39.06418040062292,
          40.00465662740671,
          33.74552491909956,
          38.452957822131594,
          36.60571703116295,
          34.842732789128206,
          33.034679614504036,
          37.75536313271458,
          37.93410534588732,
          35.387693862104996,
          37.42182617440787,
          34.67281324102468,
          37.23123906016117,
          37.05657050965842,
          40.76321307009046,
          39.58110326069098,
          41.59278415466251,
          38.27890300493854,
          38.52873955874684,
          37.55955140753285,
          39.03419850618846,
          40.125301745523544,
          40.650142500045625,
          36.22021153773196,
          38.027776428749846,
          34.45691532287927,
          38.68673648776335,
          39.26937584478809
         ],
         "lon": [
          -102.38298318235161,
          -86.82578084009809,
          -152.28194234706456,
          -114.50917790059957,
          -111.6621659452277,
          -92.4382277152644,
          -89.68921656156469,
          -115.08819333928405,
          -112.051820230218,
          -124.73930124501719,
          -90.31942440744834,
          -92.47059675076862,
          -106.43853053265374,
          -102.04203078522815,
          -104.08032282043054,
          -105.54742434895037,
          -72.72815089932892,
          -75.5079603163236,
          -77.01357538620381,
          -99.14661945458374,
          -104.92482266729182,
          -82.48909058172815,
          -83.4563085776914,
          -101.02225393243185,
          -99.9140315813722,
          -156.3386715692996,
          -98.89140000130227,
          -114.65859757921073,
          -89.19767230902852,
          -86.27601914348664,
          -93.49999656163816,
          -103.62285055776387,
          -98.38046454513979,
          -85.28308932056353,
          -92.03364974511939,
          -69.23288473983219,
          -97.43521038121763,
          -76.81222332353195,
          -71.83135850229266,
          -85.41523148236314,
          -101.8891035619952,
          -94.30803002128881,
          -89.6660450166311,
          -92.47572716210433,
          -109.64485885218161,
          -99.07270547982401,
          -99.62505146899124,
          -75.01495406972793,
          -104.89713067203324,
          -99.80945235045104,
          -116.65393767084588,
          -66.38762111480644,
          -71.57886746126859,
          -74.66918315188286,
          -106.1104258249509,
          -75.52302764326772,
          -60.5661974970641,
          -79.40555173327667,
          -100.4691491820422,
          -118.98478547085628,
          -63.36324673607788,
          -99.97863198813704,
          -88.91501294228048,
          -96.44718938484486,
          -82.79028453499966,
          -97.50657676884646,
          -86.07191471031808,
          -120.54723078796812,
          -77.80074337206577,
          -63.25095488249979,
          -97.89421278605805,
          -66.47108951745119,
          -71.79750955250563,
          -99.85202123097572,
          -88.06546733807436,
          -71.56559382635417,
          -100.44437822135143,
          -105.88931005233748,
          -107.48249993177896,
          -110.80012770978699,
          -80.90210589228889,
          -100.23062186371922,
          -92.58292395135851,
          -98.65757077943341,
          -86.34019230459842,
          -99.36088200586725,
          -98.15997297672223,
          -64.7167488762582,
          -111.67763833565171,
          -96.40650030224809,
          -72.66326480219627,
          -78.85403853567156,
          -120.42895224780035,
          -80.61517535516336,
          -90.00565843905422,
          -107.55024904641702,
          -88.90560342077067,
          -135.49807879627068,
          -102.70673581223355,
          -121.88716885009846,
          -119.82047830780307,
          -120.64633435550631,
          -121.59979355023549,
          -120.5519603706433,
          -122.23648606046694,
          -121.92561676668957,
          -123.89672147337342,
          -120.5252740178388,
          -119.65146206958534,
          -122.39058173886374,
          -123.87357921711225,
          -115.3636751369968,
          -117.41198453829635,
          -118.73226467259855,
          -119.81623818575977,
          -122.75339003731361,
          -120.59491561977993,
          -118.22668057633888,
          -119.76350575561592,
          -122.71820864404822,
          -119.90581869386683,
          -123.3915094902215,
          -120.71821733764666,
          -120.7249613899143,
          -118.88765286928495,
          -121.23962348148861,
          -122.32991772273007,
          -120.76568842004355,
          -117.76086188118907,
          -120.71634427963215,
          -120.83930526998523,
          -115.99278155602052,
          -121.33918202107427,
          -121.07396787631596,
          -116.17966371099124,
          -116.73219428916529,
          -122.44334940521935,
          -121.27063275427628,
          -120.40591003423233,
          -122.33018995092733,
          -120.0181738901874,
          -121.69289119214972,
          -122.0014100976888,
          -122.04106886886498,
          -120.51728699243166,
          -122.53991080065333,
          -121.92934839840339,
          -122.88758964519111,
          -120.99716446651637,
          -121.6936216134515,
          -122.23466772717057,
          -123.11293160986699,
          -118.80144209705479,
          -119.95396528227545,
          -119.08528774660228,
          -121.902116147908,
          -121.35011453977641
         ],
         "showlegend": false,
         "type": "scattergeo"
        }
       ],
       "layout": {
        "geo": {
         "countrycolor": "Black",
         "countrywidth": 1,
         "projection": {
          "type": "azimuthal equal area"
         },
         "resolution": 110,
         "scope": "north america",
         "showcountries": true,
         "showsubunits": true,
         "subunitcolor": "Grey",
         "subunitwidth": 0.5,
         "visible": false
        },
        "margin": {
         "b": 20,
         "l": 5,
         "r": 5,
         "t": 40
        },
        "template": {
         "data": {
          "bar": [
           {
            "error_x": {
             "color": "#2a3f5f"
            },
            "error_y": {
             "color": "#2a3f5f"
            },
            "marker": {
             "line": {
              "color": "#E5ECF6",
              "width": 0.5
             },
             "pattern": {
              "fillmode": "overlay",
              "size": 10,
              "solidity": 0.2
             }
            },
            "type": "bar"
           }
          ],
          "barpolar": [
           {
            "marker": {
             "line": {
              "color": "#E5ECF6",
              "width": 0.5
             },
             "pattern": {
              "fillmode": "overlay",
              "size": 10,
              "solidity": 0.2
             }
            },
            "type": "barpolar"
           }
          ],
          "carpet": [
           {
            "aaxis": {
             "endlinecolor": "#2a3f5f",
             "gridcolor": "white",
             "linecolor": "white",
             "minorgridcolor": "white",
             "startlinecolor": "#2a3f5f"
            },
            "baxis": {
             "endlinecolor": "#2a3f5f",
             "gridcolor": "white",
             "linecolor": "white",
             "minorgridcolor": "white",
             "startlinecolor": "#2a3f5f"
            },
            "type": "carpet"
           }
          ],
          "choropleth": [
           {
            "colorbar": {
             "outlinewidth": 0,
             "ticks": ""
            },
            "type": "choropleth"
           }
          ],
          "contour": [
           {
            "colorbar": {
             "outlinewidth": 0,
             "ticks": ""
            },
            "colorscale": [
             [
              0,
              "#0d0887"
             ],
             [
              0.1111111111111111,
              "#46039f"
             ],
             [
              0.2222222222222222,
              "#7201a8"
             ],
             [
              0.3333333333333333,
              "#9c179e"
             ],
             [
              0.4444444444444444,
              "#bd3786"
             ],
             [
              0.5555555555555556,
              "#d8576b"
             ],
             [
              0.6666666666666666,
              "#ed7953"
             ],
             [
              0.7777777777777778,
              "#fb9f3a"
             ],
             [
              0.8888888888888888,
              "#fdca26"
             ],
             [
              1,
              "#f0f921"
             ]
            ],
            "type": "contour"
           }
          ],
          "contourcarpet": [
           {
            "colorbar": {
             "outlinewidth": 0,
             "ticks": ""
            },
            "type": "contourcarpet"
           }
          ],
          "heatmap": [
           {
            "colorbar": {
             "outlinewidth": 0,
             "ticks": ""
            },
            "colorscale": [
             [
              0,
              "#0d0887"
             ],
             [
              0.1111111111111111,
              "#46039f"
             ],
             [
              0.2222222222222222,
              "#7201a8"
             ],
             [
              0.3333333333333333,
              "#9c179e"
             ],
             [
              0.4444444444444444,
              "#bd3786"
             ],
             [
              0.5555555555555556,
              "#d8576b"
             ],
             [
              0.6666666666666666,
              "#ed7953"
             ],
             [
              0.7777777777777778,
              "#fb9f3a"
             ],
             [
              0.8888888888888888,
              "#fdca26"
             ],
             [
              1,
              "#f0f921"
             ]
            ],
            "type": "heatmap"
           }
          ],
          "heatmapgl": [
           {
            "colorbar": {
             "outlinewidth": 0,
             "ticks": ""
            },
            "colorscale": [
             [
              0,
              "#0d0887"
             ],
             [
              0.1111111111111111,
              "#46039f"
             ],
             [
              0.2222222222222222,
              "#7201a8"
             ],
             [
              0.3333333333333333,
              "#9c179e"
             ],
             [
              0.4444444444444444,
              "#bd3786"
             ],
             [
              0.5555555555555556,
              "#d8576b"
             ],
             [
              0.6666666666666666,
              "#ed7953"
             ],
             [
              0.7777777777777778,
              "#fb9f3a"
             ],
             [
              0.8888888888888888,
              "#fdca26"
             ],
             [
              1,
              "#f0f921"
             ]
            ],
            "type": "heatmapgl"
           }
          ],
          "histogram": [
           {
            "marker": {
             "pattern": {
              "fillmode": "overlay",
              "size": 10,
              "solidity": 0.2
             }
            },
            "type": "histogram"
           }
          ],
          "histogram2d": [
           {
            "colorbar": {
             "outlinewidth": 0,
             "ticks": ""
            },
            "colorscale": [
             [
              0,
              "#0d0887"
             ],
             [
              0.1111111111111111,
              "#46039f"
             ],
             [
              0.2222222222222222,
              "#7201a8"
             ],
             [
              0.3333333333333333,
              "#9c179e"
             ],
             [
              0.4444444444444444,
              "#bd3786"
             ],
             [
              0.5555555555555556,
              "#d8576b"
             ],
             [
              0.6666666666666666,
              "#ed7953"
             ],
             [
              0.7777777777777778,
              "#fb9f3a"
             ],
             [
              0.8888888888888888,
              "#fdca26"
             ],
             [
              1,
              "#f0f921"
             ]
            ],
            "type": "histogram2d"
           }
          ],
          "histogram2dcontour": [
           {
            "colorbar": {
             "outlinewidth": 0,
             "ticks": ""
            },
            "colorscale": [
             [
              0,
              "#0d0887"
             ],
             [
              0.1111111111111111,
              "#46039f"
             ],
             [
              0.2222222222222222,
              "#7201a8"
             ],
             [
              0.3333333333333333,
              "#9c179e"
             ],
             [
              0.4444444444444444,
              "#bd3786"
             ],
             [
              0.5555555555555556,
              "#d8576b"
             ],
             [
              0.6666666666666666,
              "#ed7953"
             ],
             [
              0.7777777777777778,
              "#fb9f3a"
             ],
             [
              0.8888888888888888,
              "#fdca26"
             ],
             [
              1,
              "#f0f921"
             ]
            ],
            "type": "histogram2dcontour"
           }
          ],
          "mesh3d": [
           {
            "colorbar": {
             "outlinewidth": 0,
             "ticks": ""
            },
            "type": "mesh3d"
           }
          ],
          "parcoords": [
           {
            "line": {
             "colorbar": {
              "outlinewidth": 0,
              "ticks": ""
             }
            },
            "type": "parcoords"
           }
          ],
          "pie": [
           {
            "automargin": true,
            "type": "pie"
           }
          ],
          "scatter": [
           {
            "fillpattern": {
             "fillmode": "overlay",
             "size": 10,
             "solidity": 0.2
            },
            "type": "scatter"
           }
          ],
          "scatter3d": [
           {
            "line": {
             "colorbar": {
              "outlinewidth": 0,
              "ticks": ""
             }
            },
            "marker": {
             "colorbar": {
              "outlinewidth": 0,
              "ticks": ""
             }
            },
            "type": "scatter3d"
           }
          ],
          "scattercarpet": [
           {
            "marker": {
             "colorbar": {
              "outlinewidth": 0,
              "ticks": ""
             }
            },
            "type": "scattercarpet"
           }
          ],
          "scattergeo": [
           {
            "marker": {
             "colorbar": {
              "outlinewidth": 0,
              "ticks": ""
             }
            },
            "type": "scattergeo"
           }
          ],
          "scattergl": [
           {
            "marker": {
             "colorbar": {
              "outlinewidth": 0,
              "ticks": ""
             }
            },
            "type": "scattergl"
           }
          ],
          "scattermapbox": [
           {
            "marker": {
             "colorbar": {
              "outlinewidth": 0,
              "ticks": ""
             }
            },
            "type": "scattermapbox"
           }
          ],
          "scatterpolar": [
           {
            "marker": {
             "colorbar": {
              "outlinewidth": 0,
              "ticks": ""
             }
            },
            "type": "scatterpolar"
           }
          ],
          "scatterpolargl": [
           {
            "marker": {
             "colorbar": {
              "outlinewidth": 0,
              "ticks": ""
             }
            },
            "type": "scatterpolargl"
           }
          ],
          "scatterternary": [
           {
            "marker": {
             "colorbar": {
              "outlinewidth": 0,
              "ticks": ""
             }
            },
            "type": "scatterternary"
           }
          ],
          "surface": [
           {
            "colorbar": {
             "outlinewidth": 0,
             "ticks": ""
            },
            "colorscale": [
             [
              0,
              "#0d0887"
             ],
             [
              0.1111111111111111,
              "#46039f"
             ],
             [
              0.2222222222222222,
              "#7201a8"
             ],
             [
              0.3333333333333333,
              "#9c179e"
             ],
             [
              0.4444444444444444,
              "#bd3786"
             ],
             [
              0.5555555555555556,
              "#d8576b"
             ],
             [
              0.6666666666666666,
              "#ed7953"
             ],
             [
              0.7777777777777778,
              "#fb9f3a"
             ],
             [
              0.8888888888888888,
              "#fdca26"
             ],
             [
              1,
              "#f0f921"
             ]
            ],
            "type": "surface"
           }
          ],
          "table": [
           {
            "cells": {
             "fill": {
              "color": "#EBF0F8"
             },
             "line": {
              "color": "white"
             }
            },
            "header": {
             "fill": {
              "color": "#C8D4E3"
             },
             "line": {
              "color": "white"
             }
            },
            "type": "table"
           }
          ]
         },
         "layout": {
          "annotationdefaults": {
           "arrowcolor": "#2a3f5f",
           "arrowhead": 0,
           "arrowwidth": 1
          },
          "autotypenumbers": "strict",
          "coloraxis": {
           "colorbar": {
            "outlinewidth": 0,
            "ticks": ""
           }
          },
          "colorscale": {
           "diverging": [
            [
             0,
             "#8e0152"
            ],
            [
             0.1,
             "#c51b7d"
            ],
            [
             0.2,
             "#de77ae"
            ],
            [
             0.3,
             "#f1b6da"
            ],
            [
             0.4,
             "#fde0ef"
            ],
            [
             0.5,
             "#f7f7f7"
            ],
            [
             0.6,
             "#e6f5d0"
            ],
            [
             0.7,
             "#b8e186"
            ],
            [
             0.8,
             "#7fbc41"
            ],
            [
             0.9,
             "#4d9221"
            ],
            [
             1,
             "#276419"
            ]
           ],
           "sequential": [
            [
             0,
             "#0d0887"
            ],
            [
             0.1111111111111111,
             "#46039f"
            ],
            [
             0.2222222222222222,
             "#7201a8"
            ],
            [
             0.3333333333333333,
             "#9c179e"
            ],
            [
             0.4444444444444444,
             "#bd3786"
            ],
            [
             0.5555555555555556,
             "#d8576b"
            ],
            [
             0.6666666666666666,
             "#ed7953"
            ],
            [
             0.7777777777777778,
             "#fb9f3a"
            ],
            [
             0.8888888888888888,
             "#fdca26"
            ],
            [
             1,
             "#f0f921"
            ]
           ],
           "sequentialminus": [
            [
             0,
             "#0d0887"
            ],
            [
             0.1111111111111111,
             "#46039f"
            ],
            [
             0.2222222222222222,
             "#7201a8"
            ],
            [
             0.3333333333333333,
             "#9c179e"
            ],
            [
             0.4444444444444444,
             "#bd3786"
            ],
            [
             0.5555555555555556,
             "#d8576b"
            ],
            [
             0.6666666666666666,
             "#ed7953"
            ],
            [
             0.7777777777777778,
             "#fb9f3a"
            ],
            [
             0.8888888888888888,
             "#fdca26"
            ],
            [
             1,
             "#f0f921"
            ]
           ]
          },
          "colorway": [
           "#636efa",
           "#EF553B",
           "#00cc96",
           "#ab63fa",
           "#FFA15A",
           "#19d3f3",
           "#FF6692",
           "#B6E880",
           "#FF97FF",
           "#FECB52"
          ],
          "font": {
           "color": "#2a3f5f"
          },
          "geo": {
           "bgcolor": "white",
           "lakecolor": "white",
           "landcolor": "#E5ECF6",
           "showlakes": true,
           "showland": true,
           "subunitcolor": "white"
          },
          "hoverlabel": {
           "align": "left"
          },
          "hovermode": "closest",
          "mapbox": {
           "style": "light"
          },
          "paper_bgcolor": "white",
          "plot_bgcolor": "#E5ECF6",
          "polar": {
           "angularaxis": {
            "gridcolor": "white",
            "linecolor": "white",
            "ticks": ""
           },
           "bgcolor": "#E5ECF6",
           "radialaxis": {
            "gridcolor": "white",
            "linecolor": "white",
            "ticks": ""
           }
          },
          "scene": {
           "xaxis": {
            "backgroundcolor": "#E5ECF6",
            "gridcolor": "white",
            "gridwidth": 2,
            "linecolor": "white",
            "showbackground": true,
            "ticks": "",
            "zerolinecolor": "white"
           },
           "yaxis": {
            "backgroundcolor": "#E5ECF6",
            "gridcolor": "white",
            "gridwidth": 2,
            "linecolor": "white",
            "showbackground": true,
            "ticks": "",
            "zerolinecolor": "white"
           },
           "zaxis": {
            "backgroundcolor": "#E5ECF6",
            "gridcolor": "white",
            "gridwidth": 2,
            "linecolor": "white",
            "showbackground": true,
            "ticks": "",
            "zerolinecolor": "white"
           }
          },
          "shapedefaults": {
           "line": {
            "color": "#2a3f5f"
           }
          },
          "ternary": {
           "aaxis": {
            "gridcolor": "white",
            "linecolor": "white",
            "ticks": ""
           },
           "baxis": {
            "gridcolor": "white",
            "linecolor": "white",
            "ticks": ""
           },
           "bgcolor": "#E5ECF6",
           "caxis": {
            "gridcolor": "white",
            "linecolor": "white",
            "ticks": ""
           }
          },
          "title": {
           "x": 0.05
          },
          "xaxis": {
           "automargin": true,
           "gridcolor": "white",
           "linecolor": "white",
           "ticks": "",
           "title": {
            "standoff": 15
           },
           "zerolinecolor": "white",
           "zerolinewidth": 2
          },
          "yaxis": {
           "automargin": true,
           "gridcolor": "white",
           "linecolor": "white",
           "ticks": "",
           "title": {
            "standoff": 15
           },
           "zerolinecolor": "white",
           "zerolinewidth": 2
          }
         }
        }
       }
      },
      "text/html": [
       "<div>                            <div id=\"3e073b3b-203e-42f3-826a-119450afe976\" class=\"plotly-graph-div\" style=\"height:525px; width:100%;\"></div>            <script type=\"text/javascript\">                require([\"plotly\"], function(Plotly) {                    window.PLOTLYENV=window.PLOTLYENV || {};                                    if (document.getElementById(\"3e073b3b-203e-42f3-826a-119450afe976\")) {                    Plotly.newPlot(                        \"3e073b3b-203e-42f3-826a-119450afe976\",                        [{\"hoverinfo\":\"none\",\"lat\":[31.497195858694962,33.034679614504036],\"line\":{\"color\":\"#888\",\"width\":1},\"lon\":[-99.36088200586725,-116.73219428916529],\"mode\":\"lines\",\"opacity\":0.192928411937515,\"showlegend\":false,\"type\":\"scattergeo\"},{\"hoverinfo\":\"none\",\"lat\":[33.034679614504036,42.95641755808824],\"line\":{\"color\":\"#888\",\"width\":1},\"lon\":[-116.73219428916529,-75.52302764326772],\"mode\":\"lines\",\"opacity\":0.23214493960849633,\"showlegend\":false,\"type\":\"scattergeo\"},{\"hoverinfo\":\"none\",\"lat\":[33.034679614504036,38.999272304945244],\"line\":{\"color\":\"#888\",\"width\":1},\"lon\":[-116.73219428916529,-105.54742434895037],\"mode\":\"lines\",\"opacity\":0.12511194309542875,\"showlegend\":false,\"type\":\"scattergeo\"},{\"hoverinfo\":\"none\",\"lat\":[33.034679614504036,28.655766280687033],\"line\":{\"color\":\"#888\",\"width\":1},\"lon\":[-116.73219428916529,-82.48909058172815],\"mode\":\"lines\",\"opacity\":0.21818319416765475,\"showlegend\":false,\"type\":\"scattergeo\"},{\"hoverinfo\":\"none\",\"lat\":[33.034679614504036,42.265215615858125],\"line\":{\"color\":\"#888\",\"width\":1},\"lon\":[-116.73219428916529,-71.83135850229266],\"mode\":\"lines\",\"opacity\":0.2526627599221767,\"showlegend\":false,\"type\":\"scattergeo\"},{\"hoverinfo\":\"none\",\"lat\":[33.034679614504036,54.770043982902244],\"line\":{\"color\":\"#888\",\"width\":1},\"lon\":[-116.73219428916529,-124.73930124501719],\"mode\":\"lines\",\"opacity\":0.1535842623712985,\"showlegend\":false,\"type\":\"scattergeo\"},{\"hoverinfo\":\"none\",\"lat\":[33.034679614504036,46.318485059679716],\"line\":{\"color\":\"#888\",\"width\":1},\"lon\":[-116.73219428916529,-94.30803002128881],\"mode\":\"lines\",\"opacity\":0.16545763412226505,\"showlegend\":false,\"type\":\"scattergeo\"},{\"hoverinfo\":\"none\",\"lat\":[33.034679614504036,47.380258785903145],\"line\":{\"color\":\"#888\",\"width\":1},\"lon\":[-116.73219428916529,-120.42895224780035],\"mode\":\"lines\",\"opacity\":0.16131845571735326,\"showlegend\":false,\"type\":\"scattergeo\"},{\"hoverinfo\":\"none\",\"lat\":[33.034679614504036,34.29899140010055],\"line\":{\"color\":\"#888\",\"width\":1},\"lon\":[-116.73219428916529,-111.6621659452277],\"mode\":\"lines\",\"opacity\":0.24604596998653752,\"showlegend\":false,\"type\":\"scattergeo\"},{\"hoverinfo\":\"none\",\"lat\":[33.034679614504036,39.32480745803587],\"line\":{\"color\":\"#888\",\"width\":1},\"lon\":[-116.73219428916529,-111.67763833565171],\"mode\":\"lines\",\"opacity\":0.20434151896461294,\"showlegend\":false,\"type\":\"scattergeo\"},{\"hoverinfo\":\"none\",\"lat\":[33.034679614504036,50.43597727084477],\"line\":{\"color\":\"#888\",\"width\":1},\"lon\":[-116.73219428916529,-86.07191471031808],\"mode\":\"lines\",\"opacity\":0.2046495119787044,\"showlegend\":false,\"type\":\"scattergeo\"},{\"hoverinfo\":\"none\",\"lat\":[33.034679614504036,40.066667478173414],\"line\":{\"color\":\"#888\",\"width\":1},\"lon\":[-116.73219428916529,-89.19767230902852],\"mode\":\"lines\",\"opacity\":0.2062254110353647,\"showlegend\":false,\"type\":\"scattergeo\"},{\"hoverinfo\":\"none\",\"lat\":[33.034679614504036,44.32902741389524],\"line\":{\"color\":\"#888\",\"width\":1},\"lon\":[-116.73219428916529,-85.41523148236314],\"mode\":\"lines\",\"opacity\":0.23028076201126246,\"showlegend\":false,\"type\":\"scattergeo\"},{\"hoverinfo\":\"none\",\"lat\":[33.034679614504036,40.87444013849723],\"line\":{\"color\":\"#888\",\"width\":1},\"lon\":[-116.73219428916529,-77.80074337206577],\"mode\":\"lines\",\"opacity\":0.3010475577869295,\"showlegend\":false,\"type\":\"scattergeo\"},{\"hoverinfo\":\"none\",\"lat\":[33.034679614504036,37.517691573632405],\"line\":{\"color\":\"#888\",\"width\":1},\"lon\":[-116.73219428916529,-78.85403853567156],\"mode\":\"lines\",\"opacity\":0.21013119533527702,\"showlegend\":false,\"type\":\"scattergeo\"},{\"hoverinfo\":\"none\",\"lat\":[33.034679614504036,44.65202141167733],\"line\":{\"color\":\"#888\",\"width\":1},\"lon\":[-116.73219428916529,-90.00565843905422],\"mode\":\"lines\",\"opacity\":0.23347910592808532,\"showlegend\":false,\"type\":\"scattergeo\"},{\"hoverinfo\":\"none\",\"lat\":[33.034679614504036,39.062564401916624],\"line\":{\"color\":\"#888\",\"width\":1},\"lon\":[-116.73219428916529,-76.81222332353195],\"mode\":\"lines\",\"opacity\":0.1681049562682216,\"showlegend\":false,\"type\":\"scattergeo\"},{\"hoverinfo\":\"none\",\"lat\":[33.034679614504036,40.29117389845186],\"line\":{\"color\":\"#888\",\"width\":1},\"lon\":[-116.73219428916529,-82.79028453499966],\"mode\":\"lines\",\"opacity\":0.22809356345755946,\"showlegend\":false,\"type\":\"scattergeo\"},{\"hoverinfo\":\"none\",\"lat\":[33.034679614504036,55.17292103831119],\"line\":{\"color\":\"#888\",\"width\":1},\"lon\":[-116.73219428916529,-114.50917790059957],\"mode\":\"lines\",\"opacity\":0.13727163514364799,\"showlegend\":false,\"type\":\"scattergeo\"},{\"hoverinfo\":\"none\",\"lat\":[33.034679614504036,43.936153064481985],\"line\":{\"color\":\"#888\",\"width\":1},\"lon\":[-116.73219428916529,-120.54723078796812],\"mode\":\"lines\",\"opacity\":0.23378834977699658,\"showlegend\":false,\"type\":\"scattergeo\"},{\"hoverinfo\":\"none\",\"lat\":[33.034679614504036,53.38257538442855],\"line\":{\"color\":\"#888\",\"width\":1},\"lon\":[-116.73219428916529,-71.79750955250563],\"mode\":\"lines\",\"opacity\":0.1438550970510452,\"showlegend\":false,\"type\":\"scattergeo\"},{\"hoverinfo\":\"none\",\"lat\":[33.034679614504036,39.356011095296225],\"line\":{\"color\":\"#888\",\"width\":1},\"lon\":[-116.73219428916529,-116.65393767084588],\"mode\":\"lines\",\"opacity\":0.32961756131023845,\"showlegend\":false,\"type\":\"scattergeo\"},{\"hoverinfo\":\"none\",\"lat\":[33.034679614504036,34.41572523351013],\"line\":{\"color\":\"#888\",\"width\":1},\"lon\":[-116.73219428916529,-106.1104258249509],\"mode\":\"lines\",\"opacity\":0.20920821790335017,\"showlegend\":false,\"type\":\"scattergeo\"},{\"hoverinfo\":\"none\",\"lat\":[33.034679614504036,31.09369751735696],\"line\":{\"color\":\"#888\",\"width\":1},\"lon\":[-116.73219428916529,-92.03364974511939],\"mode\":\"lines\",\"opacity\":0.13095995176702777,\"showlegend\":false,\"type\":\"scattergeo\"},{\"hoverinfo\":\"none\",\"lat\":[33.034679614504036,34.32182297320054],\"line\":{\"color\":\"#888\",\"width\":1},\"lon\":[-116.73219428916529,-118.22668057633888],\"mode\":\"lines\",\"opacity\":0.28682596395913146,\"showlegend\":false,\"type\":\"scattergeo\"},{\"hoverinfo\":\"none\",\"lat\":[33.034679614504036,38.36630116092656],\"line\":{\"color\":\"#888\",\"width\":1},\"lon\":[-116.73219428916529,-92.47572716210433],\"mode\":\"lines\",\"opacity\":0.18300695083632196,\"showlegend\":false,\"type\":\"scattergeo\"},{\"hoverinfo\":\"none\",\"lat\":[33.034679614504036,41.52770996729183],\"line\":{\"color\":\"#888\",\"width\":1},\"lon\":[-116.73219428916529,-99.80945235045104],\"mode\":\"lines\",\"opacity\":0.17109919213050534,\"showlegend\":false,\"type\":\"scattergeo\"},{\"hoverinfo\":\"none\",\"lat\":[33.034679614504036,33.919392400455166],\"line\":{\"color\":\"#888\",\"width\":1},\"lon\":[-116.73219428916529,-80.90210589228889],\"mode\":\"lines\",\"opacity\":0.1590898639762347,\"showlegend\":false,\"type\":\"scattergeo\"},{\"hoverinfo\":\"none\",\"lat\":[33.034679614504036,54.41884217956254],\"line\":{\"color\":\"#888\",\"width\":1},\"lon\":[-116.73219428916529,-105.88931005233748],\"mode\":\"lines\",\"opacity\":0.15332956210202625,\"showlegend\":false,\"type\":\"scattergeo\"},{\"hoverinfo\":\"none\",\"lat\":[33.034679614504036,38.48528246133222],\"line\":{\"color\":\"#888\",\"width\":1},\"lon\":[-116.73219428916529,-98.38046454513979],\"mode\":\"lines\",\"opacity\":0.13031391958776828,\"showlegend\":false,\"type\":\"scattergeo\"},{\"hoverinfo\":\"none\",\"lat\":[33.034679614504036,37.23123906016117],\"line\":{\"color\":\"#888\",\"width\":1},\"lon\":[-116.73219428916529,-121.69289119214972],\"mode\":\"lines\",\"opacity\":0.37259247152017805,\"showlegend\":false,\"type\":\"scattergeo\"},{\"hoverinfo\":\"none\",\"lat\":[33.034679614504036,37.64660316728161],\"line\":{\"color\":\"#888\",\"width\":1},\"lon\":[-116.73219428916529,-121.88716885009846],\"mode\":\"lines\",\"opacity\":0.29138192419825065,\"showlegend\":false,\"type\":\"scattergeo\"},{\"hoverinfo\":\"none\",\"lat\":[33.034679614504036,33.70302467917277],\"line\":{\"color\":\"#888\",\"width\":1},\"lon\":[-116.73219428916529,-117.76086188118907],\"mode\":\"lines\",\"opacity\":0.30607344978807827,\"showlegend\":false,\"type\":\"scattergeo\"},{\"hoverinfo\":\"none\",\"lat\":[33.034679614504036,30.555956452701384],\"line\":{\"color\":\"#888\",\"width\":1},\"lon\":[-116.73219428916529,-115.08819333928405],\"mode\":\"lines\",\"opacity\":0.537594530197866,\"showlegend\":false,\"type\":\"scattergeo\"},{\"hoverinfo\":\"none\",\"lat\":[33.034679614504036,33.04031085177393],\"line\":{\"color\":\"#888\",\"width\":1},\"lon\":[-116.73219428916529,-115.3636751369968],\"mode\":\"lines\",\"opacity\":0.38690823268082725,\"showlegend\":false,\"type\":\"scattergeo\"},{\"hoverinfo\":\"text\",\"hovertext\":[\"Aguascalientes, MEX\",\"Alabama, USA\",\"Alaska, USA\",\"Alberta, CAN\",\"Arizona, USA\",\"Arkansas, USA\",\"Arrecife Alacr\\u00e1n, MEX\",\"Baja California, MEX\",\"Baja California Sur, MEX\",\"British Columbia, CAN\",\"Campeche, MEX\",\"Chiapas, MEX\",\"Chihuahua, MEX\",\"Coahuila de Zaragoza, MEX\",\"Colima, MEX\",\"Colorado, USA\",\"Connecticut, USA\",\"Delaware, USA\",\"District of Columbia, USA\",\"Distrito Federal, MEX\",\"Durango, MEX\",\"Florida, USA\",\"Georgia, USA\",\"Guanajuato, MEX\",\"Guerrero, MEX\",\"Hawaii, USA\",\"Hidalgo, MEX\",\"Idaho, USA\",\"Illinois, USA\",\"Indiana, USA\",\"Iowa, USA\",\"Jalisco, MEX\",\"Kansas, USA\",\"Kentucky, USA\",\"Louisiana, USA\",\"Maine, USA\",\"Manitoba, CAN\",\"Maryland, USA\",\"Massachusetts, USA\",\"Michigan, USA\",\"Michoac\\u00e1n de Ocampo, MEX\",\"Minnesota, USA\",\"Mississippi, USA\",\"Missouri, USA\",\"Montana, USA\",\"Morelos, MEX\",\"M\\u00e9xico, MEX\",\"Navassa Island, USA\",\"Nayarit, MEX\",\"Nebraska, USA\",\"Nevada, USA\",\"New Brunswick / Nouveau-Brunswick, CAN\",\"New Hampshire, USA\",\"New Jersey, USA\",\"New Mexico, USA\",\"New York, USA\",\"Newfoundland and Labrador / Terre-Neuve-et-Labrador, CAN\",\"North Carolina, USA\",\"North Dakota, USA\",\"Northwest Territories / Territoires du Nord-Ouest, CAN\",\"Nova Scotia, CAN\",\"Nuevo Le\\u00f3n, MEX\",\"Nunavut, CAN\",\"Oaxaca, MEX\",\"Ohio, USA\",\"Oklahoma, USA\",\"Ontario, CAN\",\"Oregon, USA\",\"Pennsylvania, USA\",\"Prince Edward Island / \\u00cele-du-Prince-\\u00c9douard, CAN\",\"Puebla, MEX\",\"Puerto Rico, USA\",\"Qu\\u00e9bec, CAN\",\"Quer\\u00e9taro de Arteaga, MEX\",\"Quintana Roo, MEX\",\"Rhode Island, USA\",\"San Luis Potos\\u00ed, MEX\",\"Saskatchewan, CAN\",\"Sinaloa, MEX\",\"Sonora, MEX\",\"South Carolina, USA\",\"South Dakota, USA\",\"Tabasco, MEX\",\"Tamaulipas, MEX\",\"Tennessee, USA\",\"Texas, USA\",\"Tlaxcala, MEX\",\"United States Virgin Islands, USA\",\"Utah, USA\",\"Veracruz-Llave, MEX\",\"Vermont, USA\",\"Virginia, USA\",\"Washington, USA\",\"West Virginia, USA\",\"Wisconsin, USA\",\"Wyoming, USA\",\"Yucat\\u00e1n, MEX\",\"Yukon Territory / Territoire du Yukon, CAN\",\"Zacatecas, MEX\",\"Alameda, CA\",\"Alpine, CA\",\"Amador, CA\",\"Butte, CA\",\"Calaveras, CA\",\"Colusa, CA\",\"Contra Costa, CA\",\"Del Norte, CA\",\"El Dorado, CA\",\"Fresno, CA\",\"Glenn, CA\",\"Humboldt, CA\",\"Imperial, CA\",\"Inyo, CA\",\"Kern, CA\",\"Kings, CA\",\"Lake, CA\",\"Lassen, CA\",\"Los Angeles, CA\",\"Madera, CA\",\"Marin, CA\",\"Mariposa, CA\",\"Mendocino, CA\",\"Merced, CA\",\"Modoc, CA\",\"Mono, CA\",\"Monterey, CA\",\"Napa, CA\",\"Nevada, CA\",\"Orange, CA\",\"Placer, CA\",\"Plumas, CA\",\"Riverside, CA\",\"Sacramento, CA\",\"San Benito, CA\",\"San Bernardino, CA\",\"San Diego, CA\",\"San Francisco, CA\",\"San Joaquin, CA\",\"San Luis Obispo, CA\",\"San Mateo, CA\",\"Santa Barbara, CA\",\"Santa Clara, CA\",\"Santa Cruz, CA\",\"Shasta, CA\",\"Sierra, CA\",\"Siskiyou, CA\",\"Solano, CA\",\"Sonoma, CA\",\"Stanislaus, CA\",\"Sutter, CA\",\"Tehama, CA\",\"Trinity, CA\",\"Tulare, CA\",\"Tuolumne, CA\",\"Ventura, CA\",\"Yolo, CA\",\"Yuba, CA\"],\"lat\":[22.00286430846133,32.79503921902008,64.2772538023995,55.17292103831119,34.29899140010055,34.90027537581923,22.393202422145478,30.555956452701384,25.92951022411993,54.770043982902244,18.840855348625897,16.49270778941116,28.79645478755821,27.295667285064127,19.117074619158952,38.999272304945244,41.625704903876134,38.99391802349199,38.909689910499935,19.2784493328851,24.935716809101358,28.655766280687033,32.65690500631872,20.903790701350697,17.675843450237288,20.243100873315903,20.473090040938896,44.389601857754634,40.066667478173414,39.90729014798672,42.07584749859052,20.583034413624077,38.48528246133222,37.528160296743,31.09369751735696,45.39146840038977,54.92568044552876,39.062564401916624,42.265215615858125,44.32902741389524,19.204098221424392,46.318485059679716,32.7517915613179,38.36630116092656,47.034509996265264,18.74665405066504,19.373743848489823,18.407256393431435,21.838130824679038,41.52770996729183,39.356011095296225,46.62079034788019,43.68691138725592,40.19886540462451,34.41572523351013,42.95641755808824,52.89406622469694,35.546443576151475,47.446922085590224,66.33215522264649,45.141170408973814,25.57480594309557,71.02125047812994,16.968495936142585,40.29117389845186,35.583740998570924,50.43597727084477,43.936153064481985,40.87444013849723,46.394415324456546,19.019095349735153,18.224894842053203,53.38257538442855,20.840345848378732,19.609944635935314,41.67949679270535,22.613332833234907,54.41884217956254,25.01158916751733,29.711739761201994,33.919392400455166,44.4360396804313,17.939003720570632,24.284003258335403,35.84520571625496,31.497195858694962,19.42768333005091,18.01820142772459,39.32480745803587,19.362987010344465,44.074050569383786,37.517691573632405,47.380258785903145,38.64152445099433,44.65202141167733,43.00033316181058,20.65983086550385,63.63375869269598,23.27207549362695,37.64660316728161,38.59877297377513,38.446863425540506,39.6671811360148,38.20473349030506,39.17799522683877,37.917136049332065,41.743323784272185,38.77899085021486,36.75825755971659,39.59932161575543,40.69943914530492,33.04031085177393,36.51140391677814,35.342443228640086,36.07467093996385,39.10086237179942,40.67377182767087,34.32182297320054,37.21775040302321,38.07202874100096,37.58143752404243,39.440999168411935,37.19294943546059,41.59084492275933,37.93952823185074,36.21747682090933,38.507388734507536,39.301912225117206,33.70302467917277,39.06418040062292,40.00465662740671,33.74552491909956,38.452957822131594,36.60571703116295,34.842732789128206,33.034679614504036,37.75536313271458,37.93410534588732,35.387693862104996,37.42182617440787,34.67281324102468,37.23123906016117,37.05657050965842,40.76321307009046,39.58110326069098,41.59278415466251,38.27890300493854,38.52873955874684,37.55955140753285,39.03419850618846,40.125301745523544,40.650142500045625,36.22021153773196,38.027776428749846,34.45691532287927,38.68673648776335,39.26937584478809],\"lon\":[-102.38298318235161,-86.82578084009809,-152.28194234706456,-114.50917790059957,-111.6621659452277,-92.4382277152644,-89.68921656156469,-115.08819333928405,-112.051820230218,-124.73930124501719,-90.31942440744834,-92.47059675076862,-106.43853053265374,-102.04203078522815,-104.08032282043054,-105.54742434895037,-72.72815089932892,-75.5079603163236,-77.01357538620381,-99.14661945458374,-104.92482266729182,-82.48909058172815,-83.4563085776914,-101.02225393243185,-99.9140315813722,-156.3386715692996,-98.89140000130227,-114.65859757921073,-89.19767230902852,-86.27601914348664,-93.49999656163816,-103.62285055776387,-98.38046454513979,-85.28308932056353,-92.03364974511939,-69.23288473983219,-97.43521038121763,-76.81222332353195,-71.83135850229266,-85.41523148236314,-101.8891035619952,-94.30803002128881,-89.6660450166311,-92.47572716210433,-109.64485885218161,-99.07270547982401,-99.62505146899124,-75.01495406972793,-104.89713067203324,-99.80945235045104,-116.65393767084588,-66.38762111480644,-71.57886746126859,-74.66918315188286,-106.1104258249509,-75.52302764326772,-60.5661974970641,-79.40555173327667,-100.4691491820422,-118.98478547085628,-63.36324673607788,-99.97863198813704,-88.91501294228048,-96.44718938484486,-82.79028453499966,-97.50657676884646,-86.07191471031808,-120.54723078796812,-77.80074337206577,-63.25095488249979,-97.89421278605805,-66.47108951745119,-71.79750955250563,-99.85202123097572,-88.06546733807436,-71.56559382635417,-100.44437822135143,-105.88931005233748,-107.48249993177896,-110.80012770978699,-80.90210589228889,-100.23062186371922,-92.58292395135851,-98.65757077943341,-86.34019230459842,-99.36088200586725,-98.15997297672223,-64.7167488762582,-111.67763833565171,-96.40650030224809,-72.66326480219627,-78.85403853567156,-120.42895224780035,-80.61517535516336,-90.00565843905422,-107.55024904641702,-88.90560342077067,-135.49807879627068,-102.70673581223355,-121.88716885009846,-119.82047830780307,-120.64633435550631,-121.59979355023549,-120.5519603706433,-122.23648606046694,-121.92561676668957,-123.89672147337342,-120.5252740178388,-119.65146206958534,-122.39058173886374,-123.87357921711225,-115.3636751369968,-117.41198453829635,-118.73226467259855,-119.81623818575977,-122.75339003731361,-120.59491561977993,-118.22668057633888,-119.76350575561592,-122.71820864404822,-119.90581869386683,-123.3915094902215,-120.71821733764666,-120.7249613899143,-118.88765286928495,-121.23962348148861,-122.32991772273007,-120.76568842004355,-117.76086188118907,-120.71634427963215,-120.83930526998523,-115.99278155602052,-121.33918202107427,-121.07396787631596,-116.17966371099124,-116.73219428916529,-122.44334940521935,-121.27063275427628,-120.40591003423233,-122.33018995092733,-120.0181738901874,-121.69289119214972,-122.0014100976888,-122.04106886886498,-120.51728699243166,-122.53991080065333,-121.92934839840339,-122.88758964519111,-120.99716446651637,-121.6936216134515,-122.23466772717057,-123.11293160986699,-118.80144209705479,-119.95396528227545,-119.08528774660228,-121.902116147908,-121.35011453977641],\"showlegend\":false,\"type\":\"scattergeo\"}],                        {\"template\":{\"data\":{\"histogram2dcontour\":[{\"type\":\"histogram2dcontour\",\"colorbar\":{\"outlinewidth\":0,\"ticks\":\"\"},\"colorscale\":[[0.0,\"#0d0887\"],[0.1111111111111111,\"#46039f\"],[0.2222222222222222,\"#7201a8\"],[0.3333333333333333,\"#9c179e\"],[0.4444444444444444,\"#bd3786\"],[0.5555555555555556,\"#d8576b\"],[0.6666666666666666,\"#ed7953\"],[0.7777777777777778,\"#fb9f3a\"],[0.8888888888888888,\"#fdca26\"],[1.0,\"#f0f921\"]]}],\"choropleth\":[{\"type\":\"choropleth\",\"colorbar\":{\"outlinewidth\":0,\"ticks\":\"\"}}],\"histogram2d\":[{\"type\":\"histogram2d\",\"colorbar\":{\"outlinewidth\":0,\"ticks\":\"\"},\"colorscale\":[[0.0,\"#0d0887\"],[0.1111111111111111,\"#46039f\"],[0.2222222222222222,\"#7201a8\"],[0.3333333333333333,\"#9c179e\"],[0.4444444444444444,\"#bd3786\"],[0.5555555555555556,\"#d8576b\"],[0.6666666666666666,\"#ed7953\"],[0.7777777777777778,\"#fb9f3a\"],[0.8888888888888888,\"#fdca26\"],[1.0,\"#f0f921\"]]}],\"heatmap\":[{\"type\":\"heatmap\",\"colorbar\":{\"outlinewidth\":0,\"ticks\":\"\"},\"colorscale\":[[0.0,\"#0d0887\"],[0.1111111111111111,\"#46039f\"],[0.2222222222222222,\"#7201a8\"],[0.3333333333333333,\"#9c179e\"],[0.4444444444444444,\"#bd3786\"],[0.5555555555555556,\"#d8576b\"],[0.6666666666666666,\"#ed7953\"],[0.7777777777777778,\"#fb9f3a\"],[0.8888888888888888,\"#fdca26\"],[1.0,\"#f0f921\"]]}],\"heatmapgl\":[{\"type\":\"heatmapgl\",\"colorbar\":{\"outlinewidth\":0,\"ticks\":\"\"},\"colorscale\":[[0.0,\"#0d0887\"],[0.1111111111111111,\"#46039f\"],[0.2222222222222222,\"#7201a8\"],[0.3333333333333333,\"#9c179e\"],[0.4444444444444444,\"#bd3786\"],[0.5555555555555556,\"#d8576b\"],[0.6666666666666666,\"#ed7953\"],[0.7777777777777778,\"#fb9f3a\"],[0.8888888888888888,\"#fdca26\"],[1.0,\"#f0f921\"]]}],\"contourcarpet\":[{\"type\":\"contourcarpet\",\"colorbar\":{\"outlinewidth\":0,\"ticks\":\"\"}}],\"contour\":[{\"type\":\"contour\",\"colorbar\":{\"outlinewidth\":0,\"ticks\":\"\"},\"colorscale\":[[0.0,\"#0d0887\"],[0.1111111111111111,\"#46039f\"],[0.2222222222222222,\"#7201a8\"],[0.3333333333333333,\"#9c179e\"],[0.4444444444444444,\"#bd3786\"],[0.5555555555555556,\"#d8576b\"],[0.6666666666666666,\"#ed7953\"],[0.7777777777777778,\"#fb9f3a\"],[0.8888888888888888,\"#fdca26\"],[1.0,\"#f0f921\"]]}],\"surface\":[{\"type\":\"surface\",\"colorbar\":{\"outlinewidth\":0,\"ticks\":\"\"},\"colorscale\":[[0.0,\"#0d0887\"],[0.1111111111111111,\"#46039f\"],[0.2222222222222222,\"#7201a8\"],[0.3333333333333333,\"#9c179e\"],[0.4444444444444444,\"#bd3786\"],[0.5555555555555556,\"#d8576b\"],[0.6666666666666666,\"#ed7953\"],[0.7777777777777778,\"#fb9f3a\"],[0.8888888888888888,\"#fdca26\"],[1.0,\"#f0f921\"]]}],\"mesh3d\":[{\"type\":\"mesh3d\",\"colorbar\":{\"outlinewidth\":0,\"ticks\":\"\"}}],\"scatter\":[{\"fillpattern\":{\"fillmode\":\"overlay\",\"size\":10,\"solidity\":0.2},\"type\":\"scatter\"}],\"parcoords\":[{\"type\":\"parcoords\",\"line\":{\"colorbar\":{\"outlinewidth\":0,\"ticks\":\"\"}}}],\"scatterpolargl\":[{\"type\":\"scatterpolargl\",\"marker\":{\"colorbar\":{\"outlinewidth\":0,\"ticks\":\"\"}}}],\"bar\":[{\"error_x\":{\"color\":\"#2a3f5f\"},\"error_y\":{\"color\":\"#2a3f5f\"},\"marker\":{\"line\":{\"color\":\"#E5ECF6\",\"width\":0.5},\"pattern\":{\"fillmode\":\"overlay\",\"size\":10,\"solidity\":0.2}},\"type\":\"bar\"}],\"scattergeo\":[{\"type\":\"scattergeo\",\"marker\":{\"colorbar\":{\"outlinewidth\":0,\"ticks\":\"\"}}}],\"scatterpolar\":[{\"type\":\"scatterpolar\",\"marker\":{\"colorbar\":{\"outlinewidth\":0,\"ticks\":\"\"}}}],\"histogram\":[{\"marker\":{\"pattern\":{\"fillmode\":\"overlay\",\"size\":10,\"solidity\":0.2}},\"type\":\"histogram\"}],\"scattergl\":[{\"type\":\"scattergl\",\"marker\":{\"colorbar\":{\"outlinewidth\":0,\"ticks\":\"\"}}}],\"scatter3d\":[{\"type\":\"scatter3d\",\"line\":{\"colorbar\":{\"outlinewidth\":0,\"ticks\":\"\"}},\"marker\":{\"colorbar\":{\"outlinewidth\":0,\"ticks\":\"\"}}}],\"scattermapbox\":[{\"type\":\"scattermapbox\",\"marker\":{\"colorbar\":{\"outlinewidth\":0,\"ticks\":\"\"}}}],\"scatterternary\":[{\"type\":\"scatterternary\",\"marker\":{\"colorbar\":{\"outlinewidth\":0,\"ticks\":\"\"}}}],\"scattercarpet\":[{\"type\":\"scattercarpet\",\"marker\":{\"colorbar\":{\"outlinewidth\":0,\"ticks\":\"\"}}}],\"carpet\":[{\"aaxis\":{\"endlinecolor\":\"#2a3f5f\",\"gridcolor\":\"white\",\"linecolor\":\"white\",\"minorgridcolor\":\"white\",\"startlinecolor\":\"#2a3f5f\"},\"baxis\":{\"endlinecolor\":\"#2a3f5f\",\"gridcolor\":\"white\",\"linecolor\":\"white\",\"minorgridcolor\":\"white\",\"startlinecolor\":\"#2a3f5f\"},\"type\":\"carpet\"}],\"table\":[{\"cells\":{\"fill\":{\"color\":\"#EBF0F8\"},\"line\":{\"color\":\"white\"}},\"header\":{\"fill\":{\"color\":\"#C8D4E3\"},\"line\":{\"color\":\"white\"}},\"type\":\"table\"}],\"barpolar\":[{\"marker\":{\"line\":{\"color\":\"#E5ECF6\",\"width\":0.5},\"pattern\":{\"fillmode\":\"overlay\",\"size\":10,\"solidity\":0.2}},\"type\":\"barpolar\"}],\"pie\":[{\"automargin\":true,\"type\":\"pie\"}]},\"layout\":{\"autotypenumbers\":\"strict\",\"colorway\":[\"#636efa\",\"#EF553B\",\"#00cc96\",\"#ab63fa\",\"#FFA15A\",\"#19d3f3\",\"#FF6692\",\"#B6E880\",\"#FF97FF\",\"#FECB52\"],\"font\":{\"color\":\"#2a3f5f\"},\"hovermode\":\"closest\",\"hoverlabel\":{\"align\":\"left\"},\"paper_bgcolor\":\"white\",\"plot_bgcolor\":\"#E5ECF6\",\"polar\":{\"bgcolor\":\"#E5ECF6\",\"angularaxis\":{\"gridcolor\":\"white\",\"linecolor\":\"white\",\"ticks\":\"\"},\"radialaxis\":{\"gridcolor\":\"white\",\"linecolor\":\"white\",\"ticks\":\"\"}},\"ternary\":{\"bgcolor\":\"#E5ECF6\",\"aaxis\":{\"gridcolor\":\"white\",\"linecolor\":\"white\",\"ticks\":\"\"},\"baxis\":{\"gridcolor\":\"white\",\"linecolor\":\"white\",\"ticks\":\"\"},\"caxis\":{\"gridcolor\":\"white\",\"linecolor\":\"white\",\"ticks\":\"\"}},\"coloraxis\":{\"colorbar\":{\"outlinewidth\":0,\"ticks\":\"\"}},\"colorscale\":{\"sequential\":[[0.0,\"#0d0887\"],[0.1111111111111111,\"#46039f\"],[0.2222222222222222,\"#7201a8\"],[0.3333333333333333,\"#9c179e\"],[0.4444444444444444,\"#bd3786\"],[0.5555555555555556,\"#d8576b\"],[0.6666666666666666,\"#ed7953\"],[0.7777777777777778,\"#fb9f3a\"],[0.8888888888888888,\"#fdca26\"],[1.0,\"#f0f921\"]],\"sequentialminus\":[[0.0,\"#0d0887\"],[0.1111111111111111,\"#46039f\"],[0.2222222222222222,\"#7201a8\"],[0.3333333333333333,\"#9c179e\"],[0.4444444444444444,\"#bd3786\"],[0.5555555555555556,\"#d8576b\"],[0.6666666666666666,\"#ed7953\"],[0.7777777777777778,\"#fb9f3a\"],[0.8888888888888888,\"#fdca26\"],[1.0,\"#f0f921\"]],\"diverging\":[[0,\"#8e0152\"],[0.1,\"#c51b7d\"],[0.2,\"#de77ae\"],[0.3,\"#f1b6da\"],[0.4,\"#fde0ef\"],[0.5,\"#f7f7f7\"],[0.6,\"#e6f5d0\"],[0.7,\"#b8e186\"],[0.8,\"#7fbc41\"],[0.9,\"#4d9221\"],[1,\"#276419\"]]},\"xaxis\":{\"gridcolor\":\"white\",\"linecolor\":\"white\",\"ticks\":\"\",\"title\":{\"standoff\":15},\"zerolinecolor\":\"white\",\"automargin\":true,\"zerolinewidth\":2},\"yaxis\":{\"gridcolor\":\"white\",\"linecolor\":\"white\",\"ticks\":\"\",\"title\":{\"standoff\":15},\"zerolinecolor\":\"white\",\"automargin\":true,\"zerolinewidth\":2},\"scene\":{\"xaxis\":{\"backgroundcolor\":\"#E5ECF6\",\"gridcolor\":\"white\",\"linecolor\":\"white\",\"showbackground\":true,\"ticks\":\"\",\"zerolinecolor\":\"white\",\"gridwidth\":2},\"yaxis\":{\"backgroundcolor\":\"#E5ECF6\",\"gridcolor\":\"white\",\"linecolor\":\"white\",\"showbackground\":true,\"ticks\":\"\",\"zerolinecolor\":\"white\",\"gridwidth\":2},\"zaxis\":{\"backgroundcolor\":\"#E5ECF6\",\"gridcolor\":\"white\",\"linecolor\":\"white\",\"showbackground\":true,\"ticks\":\"\",\"zerolinecolor\":\"white\",\"gridwidth\":2}},\"shapedefaults\":{\"line\":{\"color\":\"#2a3f5f\"}},\"annotationdefaults\":{\"arrowcolor\":\"#2a3f5f\",\"arrowhead\":0,\"arrowwidth\":1},\"geo\":{\"bgcolor\":\"white\",\"landcolor\":\"#E5ECF6\",\"subunitcolor\":\"white\",\"showland\":true,\"showlakes\":true,\"lakecolor\":\"white\"},\"title\":{\"x\":0.05},\"mapbox\":{\"style\":\"light\"}}},\"margin\":{\"b\":20,\"l\":5,\"r\":5,\"t\":40},\"geo\":{\"projection\":{\"type\":\"azimuthal equal area\"},\"visible\":false,\"resolution\":110,\"scope\":\"north america\",\"showcountries\":true,\"countrycolor\":\"Black\",\"showsubunits\":true,\"subunitcolor\":\"Grey\",\"countrywidth\":1,\"subunitwidth\":0.5}},                        {\"responsive\": true}                    ).then(function(){\n",
       "                            \n",
       "var gd = document.getElementById('3e073b3b-203e-42f3-826a-119450afe976');\n",
       "var x = new MutationObserver(function (mutations, observer) {{\n",
       "        var display = window.getComputedStyle(gd).display;\n",
       "        if (!display || display === 'none') {{\n",
       "            console.log([gd, 'removed!']);\n",
       "            Plotly.purge(gd);\n",
       "            observer.disconnect();\n",
       "        }}\n",
       "}});\n",
       "\n",
       "// Listen for the removal of the full notebook cells\n",
       "var notebookContainer = gd.closest('#notebook-container');\n",
       "if (notebookContainer) {{\n",
       "    x.observe(notebookContainer, {childList: true});\n",
       "}}\n",
       "\n",
       "// Listen for the clearing of the current output cell\n",
       "var outputEl = gd.closest('.output');\n",
       "if (outputEl) {{\n",
       "    x.observe(outputEl, {childList: true});\n",
       "}}\n",
       "\n",
       "                        })                };                });            </script>        </div>"
      ]
     },
     "metadata": {},
     "output_type": "display_data"
    }
   ],
   "source": [
    "fig = go.Figure() \n",
    "    \n",
    "edge_x = []\n",
    "edge_y = []\n",
    "for edge in G.edges():\n",
    "    x0, y0 = G.nodes[edge[0]]['pos']\n",
    "    x1, y1 = G.nodes[edge[1]]['pos']\n",
    "    fig.add_trace(\n",
    "        go.Scattergeo(\n",
    "            lon=[x0,x1],\n",
    "            lat=[y0,y1],\n",
    "            hoverinfo='none',\n",
    "            mode='lines',\n",
    "            line=dict(width=1, color='#888'),\n",
    "            opacity = G.edges[edge][\"value\"] / sd.loc[sd[\"date\"]==\"2021-03-01\",\"value\"].max(),\n",
    "            showlegend=False\n",
    "        )\n",
    "    )\n",
    "\n",
    "fig.add_trace( go.Scattergeo(\n",
    "        lon=states[\"centroid_x\"],\n",
    "        lat=states[\"centroid_y\"],\n",
    "        hoverinfo=\"text\",\n",
    "        hovertext=states.index,\n",
    "        showlegend=False\n",
    "    )\n",
    ")\n",
    "\n",
    "fig.update_layout(\n",
    "    margin=dict(b=20,l=5,r=5,t=40)\n",
    ")\n",
    "\n",
    "fig.update_geos(\n",
    "    visible=False, resolution=110, scope=\"north america\",\n",
    "    showcountries=True, countrycolor=\"Black\",\n",
    "    showsubunits=True, subunitcolor=\"Grey\", \n",
    "    countrywidth=1, subunitwidth=0.5,\n",
    "    projection_type = 'azimuthal equal area'\n",
    ")\n",
    "\n",
    "fig.show()"
   ]
  },
  {
   "cell_type": "code",
   "execution_count": 163,
   "metadata": {
    "pycharm": {
     "name": "#%%\n"
    }
   },
   "outputs": [
    {
     "data": {
      "application/vnd.plotly.v1+json": {
       "config": {
        "plotlyServerURL": "https://plot.ly"
       },
       "data": [
        {
         "marker": {
          "color": "#646464",
          "line": {
           "width": 0
          }
         },
         "opacity": 0.2,
         "type": "bar",
         "width": 0.011,
         "x": [
          0.005,
          0.015,
          0.025,
          0.035,
          0.045,
          0.055,
          0.065,
          0.07500000000000001,
          0.08499999999999999,
          0.095,
          0.10500000000000001,
          0.11499999999999999,
          0.125,
          0.135,
          0.14500000000000002,
          0.155,
          0.165,
          0.175,
          0.185,
          0.195,
          0.20500000000000002,
          0.215,
          0.225,
          0.235,
          0.245,
          0.255,
          0.265,
          0.275,
          0.28500000000000003,
          0.295,
          0.305,
          0.315,
          0.325,
          0.335,
          0.34500000000000003,
          0.355,
          0.365,
          0.375,
          0.385,
          0.395,
          0.405,
          0.41500000000000004,
          0.425,
          0.435,
          0.445,
          0.455,
          0.465,
          0.475,
          0.485
         ],
         "y": [
          0,
          9,
          24,
          60,
          67,
          83,
          105,
          113,
          122,
          129,
          145,
          148,
          96,
          69,
          70,
          79,
          58,
          45,
          44,
          33,
          39,
          26,
          20,
          19,
          20,
          11,
          22,
          11,
          8,
          12,
          10,
          9,
          4,
          4,
          5,
          3,
          5,
          2,
          1,
          0,
          1,
          0,
          0,
          0,
          0,
          0,
          0,
          0,
          0
         ]
        },
        {
         "marker": {
          "color": "#D6A564",
          "line": {
           "width": 0
          }
         },
         "type": "bar",
         "width": 0.011,
         "x": [
          0.005,
          0.015,
          0.025,
          0.035,
          0.045,
          0.055,
          0.065,
          0.07500000000000001,
          0.08499999999999999,
          0.095,
          0.10500000000000001,
          0.11499999999999999,
          0.125,
          0.135,
          0.14500000000000002,
          0.155,
          0.165,
          0.175,
          0.185,
          0.195,
          0.20500000000000002,
          0.215,
          0.225,
          0.235,
          0.245,
          0.255,
          0.265,
          0.275,
          0.28500000000000003,
          0.295,
          0.305,
          0.315,
          0.325,
          0.335,
          0.34500000000000003,
          0.355,
          0.365,
          0.375,
          0.385,
          0.395,
          0.405,
          0.41500000000000004,
          0.425,
          0.435,
          0.445,
          0.455,
          0.465,
          0.475,
          0.485
         ],
         "y": [
          0,
          0,
          0,
          0,
          0,
          0,
          0,
          0,
          0,
          0,
          0,
          2,
          0,
          0,
          2,
          3,
          1,
          1,
          1,
          2,
          1,
          1,
          1,
          3,
          3,
          4,
          9,
          3,
          5,
          6,
          5,
          6,
          4,
          1,
          3,
          2,
          0,
          1,
          0,
          0,
          1,
          0,
          0,
          0,
          0,
          0,
          0,
          0,
          0
         ]
        }
       ],
       "layout": {
        "barmode": "overlay",
        "template": {
         "data": {
          "bar": [
           {
            "error_x": {
             "color": "#2a3f5f"
            },
            "error_y": {
             "color": "#2a3f5f"
            },
            "marker": {
             "line": {
              "color": "#E5ECF6",
              "width": 0.5
             },
             "pattern": {
              "fillmode": "overlay",
              "size": 10,
              "solidity": 0.2
             }
            },
            "type": "bar"
           }
          ],
          "barpolar": [
           {
            "marker": {
             "line": {
              "color": "#E5ECF6",
              "width": 0.5
             },
             "pattern": {
              "fillmode": "overlay",
              "size": 10,
              "solidity": 0.2
             }
            },
            "type": "barpolar"
           }
          ],
          "carpet": [
           {
            "aaxis": {
             "endlinecolor": "#2a3f5f",
             "gridcolor": "white",
             "linecolor": "white",
             "minorgridcolor": "white",
             "startlinecolor": "#2a3f5f"
            },
            "baxis": {
             "endlinecolor": "#2a3f5f",
             "gridcolor": "white",
             "linecolor": "white",
             "minorgridcolor": "white",
             "startlinecolor": "#2a3f5f"
            },
            "type": "carpet"
           }
          ],
          "choropleth": [
           {
            "colorbar": {
             "outlinewidth": 0,
             "ticks": ""
            },
            "type": "choropleth"
           }
          ],
          "contour": [
           {
            "colorbar": {
             "outlinewidth": 0,
             "ticks": ""
            },
            "colorscale": [
             [
              0,
              "#0d0887"
             ],
             [
              0.1111111111111111,
              "#46039f"
             ],
             [
              0.2222222222222222,
              "#7201a8"
             ],
             [
              0.3333333333333333,
              "#9c179e"
             ],
             [
              0.4444444444444444,
              "#bd3786"
             ],
             [
              0.5555555555555556,
              "#d8576b"
             ],
             [
              0.6666666666666666,
              "#ed7953"
             ],
             [
              0.7777777777777778,
              "#fb9f3a"
             ],
             [
              0.8888888888888888,
              "#fdca26"
             ],
             [
              1,
              "#f0f921"
             ]
            ],
            "type": "contour"
           }
          ],
          "contourcarpet": [
           {
            "colorbar": {
             "outlinewidth": 0,
             "ticks": ""
            },
            "type": "contourcarpet"
           }
          ],
          "heatmap": [
           {
            "colorbar": {
             "outlinewidth": 0,
             "ticks": ""
            },
            "colorscale": [
             [
              0,
              "#0d0887"
             ],
             [
              0.1111111111111111,
              "#46039f"
             ],
             [
              0.2222222222222222,
              "#7201a8"
             ],
             [
              0.3333333333333333,
              "#9c179e"
             ],
             [
              0.4444444444444444,
              "#bd3786"
             ],
             [
              0.5555555555555556,
              "#d8576b"
             ],
             [
              0.6666666666666666,
              "#ed7953"
             ],
             [
              0.7777777777777778,
              "#fb9f3a"
             ],
             [
              0.8888888888888888,
              "#fdca26"
             ],
             [
              1,
              "#f0f921"
             ]
            ],
            "type": "heatmap"
           }
          ],
          "heatmapgl": [
           {
            "colorbar": {
             "outlinewidth": 0,
             "ticks": ""
            },
            "colorscale": [
             [
              0,
              "#0d0887"
             ],
             [
              0.1111111111111111,
              "#46039f"
             ],
             [
              0.2222222222222222,
              "#7201a8"
             ],
             [
              0.3333333333333333,
              "#9c179e"
             ],
             [
              0.4444444444444444,
              "#bd3786"
             ],
             [
              0.5555555555555556,
              "#d8576b"
             ],
             [
              0.6666666666666666,
              "#ed7953"
             ],
             [
              0.7777777777777778,
              "#fb9f3a"
             ],
             [
              0.8888888888888888,
              "#fdca26"
             ],
             [
              1,
              "#f0f921"
             ]
            ],
            "type": "heatmapgl"
           }
          ],
          "histogram": [
           {
            "marker": {
             "pattern": {
              "fillmode": "overlay",
              "size": 10,
              "solidity": 0.2
             }
            },
            "type": "histogram"
           }
          ],
          "histogram2d": [
           {
            "colorbar": {
             "outlinewidth": 0,
             "ticks": ""
            },
            "colorscale": [
             [
              0,
              "#0d0887"
             ],
             [
              0.1111111111111111,
              "#46039f"
             ],
             [
              0.2222222222222222,
              "#7201a8"
             ],
             [
              0.3333333333333333,
              "#9c179e"
             ],
             [
              0.4444444444444444,
              "#bd3786"
             ],
             [
              0.5555555555555556,
              "#d8576b"
             ],
             [
              0.6666666666666666,
              "#ed7953"
             ],
             [
              0.7777777777777778,
              "#fb9f3a"
             ],
             [
              0.8888888888888888,
              "#fdca26"
             ],
             [
              1,
              "#f0f921"
             ]
            ],
            "type": "histogram2d"
           }
          ],
          "histogram2dcontour": [
           {
            "colorbar": {
             "outlinewidth": 0,
             "ticks": ""
            },
            "colorscale": [
             [
              0,
              "#0d0887"
             ],
             [
              0.1111111111111111,
              "#46039f"
             ],
             [
              0.2222222222222222,
              "#7201a8"
             ],
             [
              0.3333333333333333,
              "#9c179e"
             ],
             [
              0.4444444444444444,
              "#bd3786"
             ],
             [
              0.5555555555555556,
              "#d8576b"
             ],
             [
              0.6666666666666666,
              "#ed7953"
             ],
             [
              0.7777777777777778,
              "#fb9f3a"
             ],
             [
              0.8888888888888888,
              "#fdca26"
             ],
             [
              1,
              "#f0f921"
             ]
            ],
            "type": "histogram2dcontour"
           }
          ],
          "mesh3d": [
           {
            "colorbar": {
             "outlinewidth": 0,
             "ticks": ""
            },
            "type": "mesh3d"
           }
          ],
          "parcoords": [
           {
            "line": {
             "colorbar": {
              "outlinewidth": 0,
              "ticks": ""
             }
            },
            "type": "parcoords"
           }
          ],
          "pie": [
           {
            "automargin": true,
            "type": "pie"
           }
          ],
          "scatter": [
           {
            "fillpattern": {
             "fillmode": "overlay",
             "size": 10,
             "solidity": 0.2
            },
            "type": "scatter"
           }
          ],
          "scatter3d": [
           {
            "line": {
             "colorbar": {
              "outlinewidth": 0,
              "ticks": ""
             }
            },
            "marker": {
             "colorbar": {
              "outlinewidth": 0,
              "ticks": ""
             }
            },
            "type": "scatter3d"
           }
          ],
          "scattercarpet": [
           {
            "marker": {
             "colorbar": {
              "outlinewidth": 0,
              "ticks": ""
             }
            },
            "type": "scattercarpet"
           }
          ],
          "scattergeo": [
           {
            "marker": {
             "colorbar": {
              "outlinewidth": 0,
              "ticks": ""
             }
            },
            "type": "scattergeo"
           }
          ],
          "scattergl": [
           {
            "marker": {
             "colorbar": {
              "outlinewidth": 0,
              "ticks": ""
             }
            },
            "type": "scattergl"
           }
          ],
          "scattermapbox": [
           {
            "marker": {
             "colorbar": {
              "outlinewidth": 0,
              "ticks": ""
             }
            },
            "type": "scattermapbox"
           }
          ],
          "scatterpolar": [
           {
            "marker": {
             "colorbar": {
              "outlinewidth": 0,
              "ticks": ""
             }
            },
            "type": "scatterpolar"
           }
          ],
          "scatterpolargl": [
           {
            "marker": {
             "colorbar": {
              "outlinewidth": 0,
              "ticks": ""
             }
            },
            "type": "scatterpolargl"
           }
          ],
          "scatterternary": [
           {
            "marker": {
             "colorbar": {
              "outlinewidth": 0,
              "ticks": ""
             }
            },
            "type": "scatterternary"
           }
          ],
          "surface": [
           {
            "colorbar": {
             "outlinewidth": 0,
             "ticks": ""
            },
            "colorscale": [
             [
              0,
              "#0d0887"
             ],
             [
              0.1111111111111111,
              "#46039f"
             ],
             [
              0.2222222222222222,
              "#7201a8"
             ],
             [
              0.3333333333333333,
              "#9c179e"
             ],
             [
              0.4444444444444444,
              "#bd3786"
             ],
             [
              0.5555555555555556,
              "#d8576b"
             ],
             [
              0.6666666666666666,
              "#ed7953"
             ],
             [
              0.7777777777777778,
              "#fb9f3a"
             ],
             [
              0.8888888888888888,
              "#fdca26"
             ],
             [
              1,
              "#f0f921"
             ]
            ],
            "type": "surface"
           }
          ],
          "table": [
           {
            "cells": {
             "fill": {
              "color": "#EBF0F8"
             },
             "line": {
              "color": "white"
             }
            },
            "header": {
             "fill": {
              "color": "#C8D4E3"
             },
             "line": {
              "color": "white"
             }
            },
            "type": "table"
           }
          ]
         },
         "layout": {
          "annotationdefaults": {
           "arrowcolor": "#2a3f5f",
           "arrowhead": 0,
           "arrowwidth": 1
          },
          "autotypenumbers": "strict",
          "coloraxis": {
           "colorbar": {
            "outlinewidth": 0,
            "ticks": ""
           }
          },
          "colorscale": {
           "diverging": [
            [
             0,
             "#8e0152"
            ],
            [
             0.1,
             "#c51b7d"
            ],
            [
             0.2,
             "#de77ae"
            ],
            [
             0.3,
             "#f1b6da"
            ],
            [
             0.4,
             "#fde0ef"
            ],
            [
             0.5,
             "#f7f7f7"
            ],
            [
             0.6,
             "#e6f5d0"
            ],
            [
             0.7,
             "#b8e186"
            ],
            [
             0.8,
             "#7fbc41"
            ],
            [
             0.9,
             "#4d9221"
            ],
            [
             1,
             "#276419"
            ]
           ],
           "sequential": [
            [
             0,
             "#0d0887"
            ],
            [
             0.1111111111111111,
             "#46039f"
            ],
            [
             0.2222222222222222,
             "#7201a8"
            ],
            [
             0.3333333333333333,
             "#9c179e"
            ],
            [
             0.4444444444444444,
             "#bd3786"
            ],
            [
             0.5555555555555556,
             "#d8576b"
            ],
            [
             0.6666666666666666,
             "#ed7953"
            ],
            [
             0.7777777777777778,
             "#fb9f3a"
            ],
            [
             0.8888888888888888,
             "#fdca26"
            ],
            [
             1,
             "#f0f921"
            ]
           ],
           "sequentialminus": [
            [
             0,
             "#0d0887"
            ],
            [
             0.1111111111111111,
             "#46039f"
            ],
            [
             0.2222222222222222,
             "#7201a8"
            ],
            [
             0.3333333333333333,
             "#9c179e"
            ],
            [
             0.4444444444444444,
             "#bd3786"
            ],
            [
             0.5555555555555556,
             "#d8576b"
            ],
            [
             0.6666666666666666,
             "#ed7953"
            ],
            [
             0.7777777777777778,
             "#fb9f3a"
            ],
            [
             0.8888888888888888,
             "#fdca26"
            ],
            [
             1,
             "#f0f921"
            ]
           ]
          },
          "colorway": [
           "#636efa",
           "#EF553B",
           "#00cc96",
           "#ab63fa",
           "#FFA15A",
           "#19d3f3",
           "#FF6692",
           "#B6E880",
           "#FF97FF",
           "#FECB52"
          ],
          "font": {
           "color": "#2a3f5f"
          },
          "geo": {
           "bgcolor": "white",
           "lakecolor": "white",
           "landcolor": "#E5ECF6",
           "showlakes": true,
           "showland": true,
           "subunitcolor": "white"
          },
          "hoverlabel": {
           "align": "left"
          },
          "hovermode": "closest",
          "mapbox": {
           "style": "light"
          },
          "paper_bgcolor": "white",
          "plot_bgcolor": "#E5ECF6",
          "polar": {
           "angularaxis": {
            "gridcolor": "white",
            "linecolor": "white",
            "ticks": ""
           },
           "bgcolor": "#E5ECF6",
           "radialaxis": {
            "gridcolor": "white",
            "linecolor": "white",
            "ticks": ""
           }
          },
          "scene": {
           "xaxis": {
            "backgroundcolor": "#E5ECF6",
            "gridcolor": "white",
            "gridwidth": 2,
            "linecolor": "white",
            "showbackground": true,
            "ticks": "",
            "zerolinecolor": "white"
           },
           "yaxis": {
            "backgroundcolor": "#E5ECF6",
            "gridcolor": "white",
            "gridwidth": 2,
            "linecolor": "white",
            "showbackground": true,
            "ticks": "",
            "zerolinecolor": "white"
           },
           "zaxis": {
            "backgroundcolor": "#E5ECF6",
            "gridcolor": "white",
            "gridwidth": 2,
            "linecolor": "white",
            "showbackground": true,
            "ticks": "",
            "zerolinecolor": "white"
           }
          },
          "shapedefaults": {
           "line": {
            "color": "#2a3f5f"
           }
          },
          "ternary": {
           "aaxis": {
            "gridcolor": "white",
            "linecolor": "white",
            "ticks": ""
           },
           "baxis": {
            "gridcolor": "white",
            "linecolor": "white",
            "ticks": ""
           },
           "bgcolor": "#E5ECF6",
           "caxis": {
            "gridcolor": "white",
            "linecolor": "white",
            "ticks": ""
           }
          },
          "title": {
           "x": 0.05
          },
          "xaxis": {
           "automargin": true,
           "gridcolor": "white",
           "linecolor": "white",
           "ticks": "",
           "title": {
            "standoff": 15
           },
           "zerolinecolor": "white",
           "zerolinewidth": 2
          },
          "yaxis": {
           "automargin": true,
           "gridcolor": "white",
           "linecolor": "white",
           "ticks": "",
           "title": {
            "standoff": 15
           },
           "zerolinecolor": "white",
           "zerolinewidth": 2
          }
         }
        }
       }
      },
      "text/html": [
       "<div>                            <div id=\"745c7a52-1a57-4fd3-a266-addb764dc7df\" class=\"plotly-graph-div\" style=\"height:525px; width:100%;\"></div>            <script type=\"text/javascript\">                require([\"plotly\"], function(Plotly) {                    window.PLOTLYENV=window.PLOTLYENV || {};                                    if (document.getElementById(\"745c7a52-1a57-4fd3-a266-addb764dc7df\")) {                    Plotly.newPlot(                        \"745c7a52-1a57-4fd3-a266-addb764dc7df\",                        [{\"marker\":{\"color\":\"#646464\",\"line\":{\"width\":0}},\"opacity\":0.2,\"width\":0.011,\"x\":[0.005,0.015,0.025,0.035,0.045,0.055,0.065,0.07500000000000001,0.08499999999999999,0.095,0.10500000000000001,0.11499999999999999,0.125,0.135,0.14500000000000002,0.155,0.165,0.175,0.185,0.195,0.20500000000000002,0.215,0.225,0.235,0.245,0.255,0.265,0.275,0.28500000000000003,0.295,0.305,0.315,0.325,0.335,0.34500000000000003,0.355,0.365,0.375,0.385,0.395,0.405,0.41500000000000004,0.425,0.435,0.445,0.455,0.465,0.475,0.485],\"y\":[0,9,24,60,67,83,105,113,122,129,145,148,96,69,70,79,58,45,44,33,39,26,20,19,20,11,22,11,8,12,10,9,4,4,5,3,5,2,1,0,1,0,0,0,0,0,0,0,0],\"type\":\"bar\"},{\"marker\":{\"color\":\"#D6A564\",\"line\":{\"width\":0}},\"width\":0.011,\"x\":[0.005,0.015,0.025,0.035,0.045,0.055,0.065,0.07500000000000001,0.08499999999999999,0.095,0.10500000000000001,0.11499999999999999,0.125,0.135,0.14500000000000002,0.155,0.165,0.175,0.185,0.195,0.20500000000000002,0.215,0.225,0.235,0.245,0.255,0.265,0.275,0.28500000000000003,0.295,0.305,0.315,0.325,0.335,0.34500000000000003,0.355,0.365,0.375,0.385,0.395,0.405,0.41500000000000004,0.425,0.435,0.445,0.455,0.465,0.475,0.485],\"y\":[0,0,0,0,0,0,0,0,0,0,0,2,0,0,2,3,1,1,1,2,1,1,1,3,3,4,9,3,5,6,5,6,4,1,3,2,0,1,0,0,1,0,0,0,0,0,0,0,0],\"type\":\"bar\"}],                        {\"template\":{\"data\":{\"histogram2dcontour\":[{\"type\":\"histogram2dcontour\",\"colorbar\":{\"outlinewidth\":0,\"ticks\":\"\"},\"colorscale\":[[0.0,\"#0d0887\"],[0.1111111111111111,\"#46039f\"],[0.2222222222222222,\"#7201a8\"],[0.3333333333333333,\"#9c179e\"],[0.4444444444444444,\"#bd3786\"],[0.5555555555555556,\"#d8576b\"],[0.6666666666666666,\"#ed7953\"],[0.7777777777777778,\"#fb9f3a\"],[0.8888888888888888,\"#fdca26\"],[1.0,\"#f0f921\"]]}],\"choropleth\":[{\"type\":\"choropleth\",\"colorbar\":{\"outlinewidth\":0,\"ticks\":\"\"}}],\"histogram2d\":[{\"type\":\"histogram2d\",\"colorbar\":{\"outlinewidth\":0,\"ticks\":\"\"},\"colorscale\":[[0.0,\"#0d0887\"],[0.1111111111111111,\"#46039f\"],[0.2222222222222222,\"#7201a8\"],[0.3333333333333333,\"#9c179e\"],[0.4444444444444444,\"#bd3786\"],[0.5555555555555556,\"#d8576b\"],[0.6666666666666666,\"#ed7953\"],[0.7777777777777778,\"#fb9f3a\"],[0.8888888888888888,\"#fdca26\"],[1.0,\"#f0f921\"]]}],\"heatmap\":[{\"type\":\"heatmap\",\"colorbar\":{\"outlinewidth\":0,\"ticks\":\"\"},\"colorscale\":[[0.0,\"#0d0887\"],[0.1111111111111111,\"#46039f\"],[0.2222222222222222,\"#7201a8\"],[0.3333333333333333,\"#9c179e\"],[0.4444444444444444,\"#bd3786\"],[0.5555555555555556,\"#d8576b\"],[0.6666666666666666,\"#ed7953\"],[0.7777777777777778,\"#fb9f3a\"],[0.8888888888888888,\"#fdca26\"],[1.0,\"#f0f921\"]]}],\"heatmapgl\":[{\"type\":\"heatmapgl\",\"colorbar\":{\"outlinewidth\":0,\"ticks\":\"\"},\"colorscale\":[[0.0,\"#0d0887\"],[0.1111111111111111,\"#46039f\"],[0.2222222222222222,\"#7201a8\"],[0.3333333333333333,\"#9c179e\"],[0.4444444444444444,\"#bd3786\"],[0.5555555555555556,\"#d8576b\"],[0.6666666666666666,\"#ed7953\"],[0.7777777777777778,\"#fb9f3a\"],[0.8888888888888888,\"#fdca26\"],[1.0,\"#f0f921\"]]}],\"contourcarpet\":[{\"type\":\"contourcarpet\",\"colorbar\":{\"outlinewidth\":0,\"ticks\":\"\"}}],\"contour\":[{\"type\":\"contour\",\"colorbar\":{\"outlinewidth\":0,\"ticks\":\"\"},\"colorscale\":[[0.0,\"#0d0887\"],[0.1111111111111111,\"#46039f\"],[0.2222222222222222,\"#7201a8\"],[0.3333333333333333,\"#9c179e\"],[0.4444444444444444,\"#bd3786\"],[0.5555555555555556,\"#d8576b\"],[0.6666666666666666,\"#ed7953\"],[0.7777777777777778,\"#fb9f3a\"],[0.8888888888888888,\"#fdca26\"],[1.0,\"#f0f921\"]]}],\"surface\":[{\"type\":\"surface\",\"colorbar\":{\"outlinewidth\":0,\"ticks\":\"\"},\"colorscale\":[[0.0,\"#0d0887\"],[0.1111111111111111,\"#46039f\"],[0.2222222222222222,\"#7201a8\"],[0.3333333333333333,\"#9c179e\"],[0.4444444444444444,\"#bd3786\"],[0.5555555555555556,\"#d8576b\"],[0.6666666666666666,\"#ed7953\"],[0.7777777777777778,\"#fb9f3a\"],[0.8888888888888888,\"#fdca26\"],[1.0,\"#f0f921\"]]}],\"mesh3d\":[{\"type\":\"mesh3d\",\"colorbar\":{\"outlinewidth\":0,\"ticks\":\"\"}}],\"scatter\":[{\"fillpattern\":{\"fillmode\":\"overlay\",\"size\":10,\"solidity\":0.2},\"type\":\"scatter\"}],\"parcoords\":[{\"type\":\"parcoords\",\"line\":{\"colorbar\":{\"outlinewidth\":0,\"ticks\":\"\"}}}],\"scatterpolargl\":[{\"type\":\"scatterpolargl\",\"marker\":{\"colorbar\":{\"outlinewidth\":0,\"ticks\":\"\"}}}],\"bar\":[{\"error_x\":{\"color\":\"#2a3f5f\"},\"error_y\":{\"color\":\"#2a3f5f\"},\"marker\":{\"line\":{\"color\":\"#E5ECF6\",\"width\":0.5},\"pattern\":{\"fillmode\":\"overlay\",\"size\":10,\"solidity\":0.2}},\"type\":\"bar\"}],\"scattergeo\":[{\"type\":\"scattergeo\",\"marker\":{\"colorbar\":{\"outlinewidth\":0,\"ticks\":\"\"}}}],\"scatterpolar\":[{\"type\":\"scatterpolar\",\"marker\":{\"colorbar\":{\"outlinewidth\":0,\"ticks\":\"\"}}}],\"histogram\":[{\"marker\":{\"pattern\":{\"fillmode\":\"overlay\",\"size\":10,\"solidity\":0.2}},\"type\":\"histogram\"}],\"scattergl\":[{\"type\":\"scattergl\",\"marker\":{\"colorbar\":{\"outlinewidth\":0,\"ticks\":\"\"}}}],\"scatter3d\":[{\"type\":\"scatter3d\",\"line\":{\"colorbar\":{\"outlinewidth\":0,\"ticks\":\"\"}},\"marker\":{\"colorbar\":{\"outlinewidth\":0,\"ticks\":\"\"}}}],\"scattermapbox\":[{\"type\":\"scattermapbox\",\"marker\":{\"colorbar\":{\"outlinewidth\":0,\"ticks\":\"\"}}}],\"scatterternary\":[{\"type\":\"scatterternary\",\"marker\":{\"colorbar\":{\"outlinewidth\":0,\"ticks\":\"\"}}}],\"scattercarpet\":[{\"type\":\"scattercarpet\",\"marker\":{\"colorbar\":{\"outlinewidth\":0,\"ticks\":\"\"}}}],\"carpet\":[{\"aaxis\":{\"endlinecolor\":\"#2a3f5f\",\"gridcolor\":\"white\",\"linecolor\":\"white\",\"minorgridcolor\":\"white\",\"startlinecolor\":\"#2a3f5f\"},\"baxis\":{\"endlinecolor\":\"#2a3f5f\",\"gridcolor\":\"white\",\"linecolor\":\"white\",\"minorgridcolor\":\"white\",\"startlinecolor\":\"#2a3f5f\"},\"type\":\"carpet\"}],\"table\":[{\"cells\":{\"fill\":{\"color\":\"#EBF0F8\"},\"line\":{\"color\":\"white\"}},\"header\":{\"fill\":{\"color\":\"#C8D4E3\"},\"line\":{\"color\":\"white\"}},\"type\":\"table\"}],\"barpolar\":[{\"marker\":{\"line\":{\"color\":\"#E5ECF6\",\"width\":0.5},\"pattern\":{\"fillmode\":\"overlay\",\"size\":10,\"solidity\":0.2}},\"type\":\"barpolar\"}],\"pie\":[{\"automargin\":true,\"type\":\"pie\"}]},\"layout\":{\"autotypenumbers\":\"strict\",\"colorway\":[\"#636efa\",\"#EF553B\",\"#00cc96\",\"#ab63fa\",\"#FFA15A\",\"#19d3f3\",\"#FF6692\",\"#B6E880\",\"#FF97FF\",\"#FECB52\"],\"font\":{\"color\":\"#2a3f5f\"},\"hovermode\":\"closest\",\"hoverlabel\":{\"align\":\"left\"},\"paper_bgcolor\":\"white\",\"plot_bgcolor\":\"#E5ECF6\",\"polar\":{\"bgcolor\":\"#E5ECF6\",\"angularaxis\":{\"gridcolor\":\"white\",\"linecolor\":\"white\",\"ticks\":\"\"},\"radialaxis\":{\"gridcolor\":\"white\",\"linecolor\":\"white\",\"ticks\":\"\"}},\"ternary\":{\"bgcolor\":\"#E5ECF6\",\"aaxis\":{\"gridcolor\":\"white\",\"linecolor\":\"white\",\"ticks\":\"\"},\"baxis\":{\"gridcolor\":\"white\",\"linecolor\":\"white\",\"ticks\":\"\"},\"caxis\":{\"gridcolor\":\"white\",\"linecolor\":\"white\",\"ticks\":\"\"}},\"coloraxis\":{\"colorbar\":{\"outlinewidth\":0,\"ticks\":\"\"}},\"colorscale\":{\"sequential\":[[0.0,\"#0d0887\"],[0.1111111111111111,\"#46039f\"],[0.2222222222222222,\"#7201a8\"],[0.3333333333333333,\"#9c179e\"],[0.4444444444444444,\"#bd3786\"],[0.5555555555555556,\"#d8576b\"],[0.6666666666666666,\"#ed7953\"],[0.7777777777777778,\"#fb9f3a\"],[0.8888888888888888,\"#fdca26\"],[1.0,\"#f0f921\"]],\"sequentialminus\":[[0.0,\"#0d0887\"],[0.1111111111111111,\"#46039f\"],[0.2222222222222222,\"#7201a8\"],[0.3333333333333333,\"#9c179e\"],[0.4444444444444444,\"#bd3786\"],[0.5555555555555556,\"#d8576b\"],[0.6666666666666666,\"#ed7953\"],[0.7777777777777778,\"#fb9f3a\"],[0.8888888888888888,\"#fdca26\"],[1.0,\"#f0f921\"]],\"diverging\":[[0,\"#8e0152\"],[0.1,\"#c51b7d\"],[0.2,\"#de77ae\"],[0.3,\"#f1b6da\"],[0.4,\"#fde0ef\"],[0.5,\"#f7f7f7\"],[0.6,\"#e6f5d0\"],[0.7,\"#b8e186\"],[0.8,\"#7fbc41\"],[0.9,\"#4d9221\"],[1,\"#276419\"]]},\"xaxis\":{\"gridcolor\":\"white\",\"linecolor\":\"white\",\"ticks\":\"\",\"title\":{\"standoff\":15},\"zerolinecolor\":\"white\",\"automargin\":true,\"zerolinewidth\":2},\"yaxis\":{\"gridcolor\":\"white\",\"linecolor\":\"white\",\"ticks\":\"\",\"title\":{\"standoff\":15},\"zerolinecolor\":\"white\",\"automargin\":true,\"zerolinewidth\":2},\"scene\":{\"xaxis\":{\"backgroundcolor\":\"#E5ECF6\",\"gridcolor\":\"white\",\"linecolor\":\"white\",\"showbackground\":true,\"ticks\":\"\",\"zerolinecolor\":\"white\",\"gridwidth\":2},\"yaxis\":{\"backgroundcolor\":\"#E5ECF6\",\"gridcolor\":\"white\",\"linecolor\":\"white\",\"showbackground\":true,\"ticks\":\"\",\"zerolinecolor\":\"white\",\"gridwidth\":2},\"zaxis\":{\"backgroundcolor\":\"#E5ECF6\",\"gridcolor\":\"white\",\"linecolor\":\"white\",\"showbackground\":true,\"ticks\":\"\",\"zerolinecolor\":\"white\",\"gridwidth\":2}},\"shapedefaults\":{\"line\":{\"color\":\"#2a3f5f\"}},\"annotationdefaults\":{\"arrowcolor\":\"#2a3f5f\",\"arrowhead\":0,\"arrowwidth\":1},\"geo\":{\"bgcolor\":\"white\",\"landcolor\":\"#E5ECF6\",\"subunitcolor\":\"white\",\"showland\":true,\"showlakes\":true,\"lakecolor\":\"white\"},\"title\":{\"x\":0.05},\"mapbox\":{\"style\":\"light\"}}},\"barmode\":\"overlay\"},                        {\"responsive\": true}                    ).then(function(){\n",
       "                            \n",
       "var gd = document.getElementById('745c7a52-1a57-4fd3-a266-addb764dc7df');\n",
       "var x = new MutationObserver(function (mutations, observer) {{\n",
       "        var display = window.getComputedStyle(gd).display;\n",
       "        if (!display || display === 'none') {{\n",
       "            console.log([gd, 'removed!']);\n",
       "            Plotly.purge(gd);\n",
       "            observer.disconnect();\n",
       "        }}\n",
       "}});\n",
       "\n",
       "// Listen for the removal of the full notebook cells\n",
       "var notebookContainer = gd.closest('#notebook-container');\n",
       "if (notebookContainer) {{\n",
       "    x.observe(notebookContainer, {childList: true});\n",
       "}}\n",
       "\n",
       "// Listen for the clearing of the current output cell\n",
       "var outputEl = gd.closest('.output');\n",
       "if (outputEl) {{\n",
       "    x.observe(outputEl, {childList: true});\n",
       "}}\n",
       "\n",
       "                        })                };                });            </script>        </div>"
      ]
     },
     "metadata": {},
     "output_type": "display_data"
    }
   ],
   "source": [
    "fig = go.Figure()\n",
    "\n",
    "counts, bins = np.histogram(sd[\"value\"], bins=np.arange(0,0.5,0.01))\n",
    "bins = 0.5 * (bins[:-1] + bins[1:])\n",
    "\n",
    "fig.add_trace( \n",
    "    go.Bar(\n",
    "        x=bins,\n",
    "        y=counts,\n",
    "        opacity=0.2,\n",
    "        width=0.011,\n",
    "        marker_line_width=0,\n",
    "        marker_color=\"#646464\"\n",
    "    )\n",
    ")\n",
    "\n",
    "counts, bins = np.histogram(sd.loc[sd[\"date\"]==\"2021-06-01\",\"value\"], bins=np.arange(0,0.5,0.01))\n",
    "bins = 0.5 * (bins[:-1] + bins[1:])\n",
    "\n",
    "fig.add_trace( \n",
    "    go.Bar(\n",
    "        x=bins,\n",
    "        y=counts,\n",
    "        width=0.011,\n",
    "        marker_line_width=0,\n",
    "        marker_color=\"#D6A564\"\n",
    "    )\n",
    ")\n",
    "fig.update_layout(barmode='overlay')\n",
    "\n",
    "fig.show()"
   ]
  }
 ],
 "metadata": {
  "kernelspec": {
   "display_name": "Python 3 (ipykernel)",
   "language": "python",
   "name": "python3"
  },
  "language_info": {
   "codemirror_mode": {
    "name": "ipython",
    "version": 3
   },
   "file_extension": ".py",
   "mimetype": "text/x-python",
   "name": "python",
   "nbconvert_exporter": "python",
   "pygments_lexer": "ipython3",
   "version": "3.10.6"
  }
 },
 "nbformat": 4,
 "nbformat_minor": 1
}