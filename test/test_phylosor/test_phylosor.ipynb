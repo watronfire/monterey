{
 "cells": [
  {
   "cell_type": "code",
   "execution_count": 1,
   "metadata": {
    "collapsed": true
   },
   "outputs": [],
   "source": [
    "from dendropy import Tree\n",
    "import pandas as pd\n",
    "from subprocess import run"
   ]
  },
  {
   "cell_type": "code",
   "execution_count": 2,
   "outputs": [
    {
     "ename": "FileNotFoundError",
     "evalue": "[Errno 2] No such file or directory: '/Users/natem/Dropbox (Scripps Research)/Personal/Code/Python/monterey/test/test_phylosor/SanDiego-BajaCalifornia.actual.1.tree'",
     "output_type": "error",
     "traceback": [
      "\u001B[0;31m---------------------------------------------------------------------------\u001B[0m",
      "\u001B[0;31mFileNotFoundError\u001B[0m                         Traceback (most recent call last)",
      "\u001B[0;32m/var/folders/ct/hf5sjtrx29q3hzh3tqrd53740000gn/T/ipykernel_10368/2466269556.py\u001B[0m in \u001B[0;36m<module>\u001B[0;34m\u001B[0m\n\u001B[1;32m      2\u001B[0m \u001B[0mmd_loc\u001B[0m \u001B[0;34m=\u001B[0m \u001B[0;34m\"/Users/natem/Dropbox (Scripps Research)/Personal/Code/Python/monterey/resources/combined_md.csv\"\u001B[0m\u001B[0;34m\u001B[0m\u001B[0;34m\u001B[0m\u001B[0m\n\u001B[1;32m      3\u001B[0m \u001B[0;34m\u001B[0m\u001B[0m\n\u001B[0;32m----> 4\u001B[0;31m \u001B[0mt\u001B[0m \u001B[0;34m=\u001B[0m \u001B[0mTree\u001B[0m\u001B[0;34m.\u001B[0m\u001B[0mget\u001B[0m\u001B[0;34m(\u001B[0m \u001B[0mpath\u001B[0m\u001B[0;34m=\u001B[0m\u001B[0mtree_loc\u001B[0m\u001B[0;34m,\u001B[0m \u001B[0mschema\u001B[0m\u001B[0;34m=\u001B[0m\u001B[0;34m\"newick\"\u001B[0m\u001B[0;34m,\u001B[0m \u001B[0mpreserve_underscores\u001B[0m\u001B[0;34m=\u001B[0m\u001B[0;32mTrue\u001B[0m \u001B[0;34m)\u001B[0m\u001B[0;34m\u001B[0m\u001B[0;34m\u001B[0m\u001B[0m\n\u001B[0m\u001B[1;32m      5\u001B[0m \u001B[0mtip_labels\u001B[0m \u001B[0;34m=\u001B[0m \u001B[0;34m[\u001B[0m\u001B[0mi\u001B[0m\u001B[0;34m.\u001B[0m\u001B[0mlabel\u001B[0m \u001B[0;32mfor\u001B[0m \u001B[0mi\u001B[0m \u001B[0;32min\u001B[0m \u001B[0mt\u001B[0m\u001B[0;34m.\u001B[0m\u001B[0mtaxon_namespace\u001B[0m\u001B[0;34m]\u001B[0m\u001B[0;34m\u001B[0m\u001B[0;34m\u001B[0m\u001B[0m\n\u001B[1;32m      6\u001B[0m \u001B[0;34m\u001B[0m\u001B[0m\n",
      "\u001B[0;32m/usr/local/lib/python3.9/site-packages/dendropy/datamodel/treemodel.py\u001B[0m in \u001B[0;36mget\u001B[0;34m(cls, **kwargs)\u001B[0m\n\u001B[1;32m   2756\u001B[0m \u001B[0;34m\u001B[0m\u001B[0m\n\u001B[1;32m   2757\u001B[0m         \"\"\"\n\u001B[0;32m-> 2758\u001B[0;31m         \u001B[0;32mreturn\u001B[0m \u001B[0mcls\u001B[0m\u001B[0;34m.\u001B[0m\u001B[0m_get_from\u001B[0m\u001B[0;34m(\u001B[0m\u001B[0;34m**\u001B[0m\u001B[0mkwargs\u001B[0m\u001B[0;34m)\u001B[0m\u001B[0;34m\u001B[0m\u001B[0;34m\u001B[0m\u001B[0m\n\u001B[0m\u001B[1;32m   2759\u001B[0m \u001B[0;34m\u001B[0m\u001B[0m\n\u001B[1;32m   2760\u001B[0m     def yield_from_files(cls,\n",
      "\u001B[0;32m/usr/local/lib/python3.9/site-packages/dendropy/datamodel/basemodel.py\u001B[0m in \u001B[0;36m_get_from\u001B[0;34m(cls, **kwargs)\u001B[0m\n\u001B[1;32m    154\u001B[0m             \u001B[0;32mreturn\u001B[0m \u001B[0mcls\u001B[0m\u001B[0;34m.\u001B[0m\u001B[0mget_from_stream\u001B[0m\u001B[0;34m(\u001B[0m\u001B[0msrc\u001B[0m\u001B[0;34m=\u001B[0m\u001B[0msrc\u001B[0m\u001B[0;34m,\u001B[0m \u001B[0mschema\u001B[0m\u001B[0;34m=\u001B[0m\u001B[0mschema\u001B[0m\u001B[0;34m,\u001B[0m \u001B[0;34m**\u001B[0m\u001B[0mkwargs\u001B[0m\u001B[0;34m)\u001B[0m\u001B[0;34m\u001B[0m\u001B[0;34m\u001B[0m\u001B[0m\n\u001B[1;32m    155\u001B[0m         \u001B[0;32melif\u001B[0m \u001B[0msrc_type\u001B[0m \u001B[0;34m==\u001B[0m \u001B[0;34m\"path\"\u001B[0m\u001B[0;34m:\u001B[0m\u001B[0;34m\u001B[0m\u001B[0;34m\u001B[0m\u001B[0m\n\u001B[0;32m--> 156\u001B[0;31m             \u001B[0;32mreturn\u001B[0m \u001B[0mcls\u001B[0m\u001B[0;34m.\u001B[0m\u001B[0mget_from_path\u001B[0m\u001B[0;34m(\u001B[0m\u001B[0msrc\u001B[0m\u001B[0;34m=\u001B[0m\u001B[0msrc\u001B[0m\u001B[0;34m,\u001B[0m \u001B[0mschema\u001B[0m\u001B[0;34m=\u001B[0m\u001B[0mschema\u001B[0m\u001B[0;34m,\u001B[0m \u001B[0;34m**\u001B[0m\u001B[0mkwargs\u001B[0m\u001B[0;34m)\u001B[0m\u001B[0;34m\u001B[0m\u001B[0;34m\u001B[0m\u001B[0m\n\u001B[0m\u001B[1;32m    157\u001B[0m         \u001B[0;32melif\u001B[0m \u001B[0msrc_type\u001B[0m \u001B[0;34m==\u001B[0m \u001B[0;34m\"data\"\u001B[0m \u001B[0;32mor\u001B[0m \u001B[0msrc_type\u001B[0m \u001B[0;34m==\u001B[0m \u001B[0;34m\"string\"\u001B[0m\u001B[0;34m:\u001B[0m\u001B[0;34m\u001B[0m\u001B[0;34m\u001B[0m\u001B[0m\n\u001B[1;32m    158\u001B[0m             \u001B[0;32mreturn\u001B[0m \u001B[0mcls\u001B[0m\u001B[0;34m.\u001B[0m\u001B[0mget_from_string\u001B[0m\u001B[0;34m(\u001B[0m\u001B[0msrc\u001B[0m\u001B[0;34m=\u001B[0m\u001B[0msrc\u001B[0m\u001B[0;34m,\u001B[0m \u001B[0mschema\u001B[0m\u001B[0;34m=\u001B[0m\u001B[0mschema\u001B[0m\u001B[0;34m,\u001B[0m \u001B[0;34m**\u001B[0m\u001B[0mkwargs\u001B[0m\u001B[0;34m)\u001B[0m\u001B[0;34m\u001B[0m\u001B[0;34m\u001B[0m\u001B[0m\n",
      "\u001B[0;32m/usr/local/lib/python3.9/site-packages/dendropy/datamodel/basemodel.py\u001B[0m in \u001B[0;36mget_from_path\u001B[0;34m(cls, src, schema, **kwargs)\u001B[0m\n\u001B[1;32m    214\u001B[0m             \u001B[0;32min\u001B[0m \u001B[0msource\u001B[0m\u001B[0;34m.\u001B[0m\u001B[0;34m\u001B[0m\u001B[0;34m\u001B[0m\u001B[0m\n\u001B[1;32m    215\u001B[0m         \"\"\"\n\u001B[0;32m--> 216\u001B[0;31m         \u001B[0;32mwith\u001B[0m \u001B[0mopen\u001B[0m\u001B[0;34m(\u001B[0m\u001B[0msrc\u001B[0m\u001B[0;34m,\u001B[0m \u001B[0;34m\"r\"\u001B[0m\u001B[0;34m,\u001B[0m \u001B[0mnewline\u001B[0m\u001B[0;34m=\u001B[0m\u001B[0;32mNone\u001B[0m\u001B[0;34m)\u001B[0m \u001B[0;32mas\u001B[0m \u001B[0mfsrc\u001B[0m\u001B[0;34m:\u001B[0m\u001B[0;34m\u001B[0m\u001B[0;34m\u001B[0m\u001B[0m\n\u001B[0m\u001B[1;32m    217\u001B[0m             return cls._parse_and_create_from_stream(stream=fsrc,\n\u001B[1;32m    218\u001B[0m                     \u001B[0mschema\u001B[0m\u001B[0;34m=\u001B[0m\u001B[0mschema\u001B[0m\u001B[0;34m,\u001B[0m\u001B[0;34m\u001B[0m\u001B[0;34m\u001B[0m\u001B[0m\n",
      "\u001B[0;31mFileNotFoundError\u001B[0m: [Errno 2] No such file or directory: '/Users/natem/Dropbox (Scripps Research)/Personal/Code/Python/monterey/test/test_phylosor/SanDiego-BajaCalifornia.actual.1.tree'"
     ]
    }
   ],
   "source": [
    "tree_loc = \"/Users/natem/Dropbox (Scripps Research)/Personal/Code/Python/monterey/test/test_phylosor/test.tree\"\n",
    "md_loc = \"/Users/natem/Dropbox (Scripps Research)/Personal/Code/Python/monterey/resources/combined_md.csv\"\n",
    "\n",
    "t = Tree.get( path=tree_loc, schema=\"newick\", preserve_underscores=True )\n",
    "tip_labels = [i.label for i in t.taxon_namespace]\n",
    "\n",
    "md = pd.read_csv( md_loc, usecols=[\"accession_id\",\"date_collected\",\"site\"], parse_dates=[\"date_collected\"] )\n",
    "\n",
    "# Subset metadata to just sequences in tree\n",
    "md = md.loc[md[\"accession_id\"].isin( tip_labels )]\n",
    "md.head()"
   ],
   "metadata": {
    "collapsed": false,
    "pycharm": {
     "name": "#%%\n"
    }
   }
  },
  {
   "cell_type": "code",
   "execution_count": 44,
   "outputs": [],
   "source": [
    "date_min = md.loc[md[\"site\"].isin([\"San Diego\", \"Baja California\"]), \"date_collected\"].min()\n",
    "date_max = md.loc[md[\"site\"].isin([\"San Diego\", \"Baja California\"]), \"date_collected\"].max()\n",
    "date_seq = pd.date_range( start=date_min, end=date_max )"
   ],
   "metadata": {
    "collapsed": false,
    "pycharm": {
     "name": "#%%\n"
    }
   }
  },
  {
   "cell_type": "code",
   "execution_count": 47,
   "outputs": [
    {
     "data": {
      "text/plain": "DatetimeIndex(['2021-11-05', '2021-11-06', '2021-11-07', '2021-11-08',\n               '2021-11-09', '2021-11-10', '2021-11-11', '2021-11-12',\n               '2021-11-13', '2021-11-14', '2021-11-15', '2021-11-16',\n               '2021-11-17', '2021-11-18', '2021-11-19', '2021-11-20',\n               '2021-11-21', '2021-11-22', '2021-11-23', '2021-11-24',\n               '2021-11-25', '2021-11-26', '2021-11-27', '2021-11-28',\n               '2021-11-29', '2021-11-30', '2021-12-01', '2021-12-02',\n               '2021-12-03', '2021-12-04'],\n              dtype='datetime64[ns]', freq='D')"
     },
     "execution_count": 47,
     "metadata": {},
     "output_type": "execute_result"
    }
   ],
   "source": [
    "date_seq[-30:]"
   ],
   "metadata": {
    "collapsed": false,
    "pycharm": {
     "name": "#%%\n"
    }
   }
  },
  {
   "cell_type": "code",
   "execution_count": 59,
   "outputs": [
    {
     "data": {
      "text/plain": "(Timestamp('2021-11-04 00:00:00', freq='D'),\n Timestamp('2021-12-04 00:00:00', freq='D'))"
     },
     "execution_count": 59,
     "metadata": {},
     "output_type": "execute_result"
    }
   ],
   "source": [
    "window = 30\n",
    "for i in range( len( date_seq[:-window] ) ):\n",
    "    temp = (date_seq[i],date_seq[i+30])\n",
    "temp"
   ],
   "metadata": {
    "collapsed": false,
    "pycharm": {
     "name": "#%%\n"
    }
   }
  },
  {
   "cell_type": "code",
   "execution_count": 67,
   "outputs": [
    {
     "data": {
      "text/plain": "'2021-11-04'"
     },
     "execution_count": 67,
     "metadata": {},
     "output_type": "execute_result"
    }
   ],
   "source": [
    "temp[0].strftime( \"%Y-%m-%d\")"
   ],
   "metadata": {
    "collapsed": false,
    "pycharm": {
     "name": "#%%\n"
    }
   }
  },
  {
   "cell_type": "code",
   "execution_count": 61,
   "outputs": [
    {
     "data": {
      "text/plain": "            accession_id date_collected             site\n9718     EPI_ISL_6832497     2021-11-05        San Diego\n14603    EPI_ISL_6946494     2021-11-04        San Diego\n29126    EPI_ISL_7337252     2021-11-04        San Diego\n35322    EPI_ISL_7308839     2021-11-20        San Diego\n48594    EPI_ISL_6863595     2021-11-04  Baja California\n...                  ...            ...              ...\n5842916  EPI_ISL_7477269     2021-12-02        San Diego\n5845320  EPI_ISL_7308865     2021-11-25        San Diego\n5850359  EPI_ISL_7337220     2021-11-08        San Diego\n5854885  EPI_ISL_6946453     2021-11-04        San Diego\n5866135  EPI_ISL_6946472     2021-11-04        San Diego\n\n[823 rows x 3 columns]",
      "text/html": "<div>\n<style scoped>\n    .dataframe tbody tr th:only-of-type {\n        vertical-align: middle;\n    }\n\n    .dataframe tbody tr th {\n        vertical-align: top;\n    }\n\n    .dataframe thead th {\n        text-align: right;\n    }\n</style>\n<table border=\"1\" class=\"dataframe\">\n  <thead>\n    <tr style=\"text-align: right;\">\n      <th></th>\n      <th>accession_id</th>\n      <th>date_collected</th>\n      <th>site</th>\n    </tr>\n  </thead>\n  <tbody>\n    <tr>\n      <th>9718</th>\n      <td>EPI_ISL_6832497</td>\n      <td>2021-11-05</td>\n      <td>San Diego</td>\n    </tr>\n    <tr>\n      <th>14603</th>\n      <td>EPI_ISL_6946494</td>\n      <td>2021-11-04</td>\n      <td>San Diego</td>\n    </tr>\n    <tr>\n      <th>29126</th>\n      <td>EPI_ISL_7337252</td>\n      <td>2021-11-04</td>\n      <td>San Diego</td>\n    </tr>\n    <tr>\n      <th>35322</th>\n      <td>EPI_ISL_7308839</td>\n      <td>2021-11-20</td>\n      <td>San Diego</td>\n    </tr>\n    <tr>\n      <th>48594</th>\n      <td>EPI_ISL_6863595</td>\n      <td>2021-11-04</td>\n      <td>Baja California</td>\n    </tr>\n    <tr>\n      <th>...</th>\n      <td>...</td>\n      <td>...</td>\n      <td>...</td>\n    </tr>\n    <tr>\n      <th>5842916</th>\n      <td>EPI_ISL_7477269</td>\n      <td>2021-12-02</td>\n      <td>San Diego</td>\n    </tr>\n    <tr>\n      <th>5845320</th>\n      <td>EPI_ISL_7308865</td>\n      <td>2021-11-25</td>\n      <td>San Diego</td>\n    </tr>\n    <tr>\n      <th>5850359</th>\n      <td>EPI_ISL_7337220</td>\n      <td>2021-11-08</td>\n      <td>San Diego</td>\n    </tr>\n    <tr>\n      <th>5854885</th>\n      <td>EPI_ISL_6946453</td>\n      <td>2021-11-04</td>\n      <td>San Diego</td>\n    </tr>\n    <tr>\n      <th>5866135</th>\n      <td>EPI_ISL_6946472</td>\n      <td>2021-11-04</td>\n      <td>San Diego</td>\n    </tr>\n  </tbody>\n</table>\n<p>823 rows × 3 columns</p>\n</div>"
     },
     "execution_count": 61,
     "metadata": {},
     "output_type": "execute_result"
    }
   ],
   "source": [
    "md.loc[md[\"date_collected\"].between( *temp )]"
   ],
   "metadata": {
    "collapsed": false,
    "pycharm": {
     "name": "#%%\n"
    }
   }
  },
  {
   "cell_type": "code",
   "execution_count": 27,
   "outputs": [
    {
     "name": "stdout",
     "output_type": "stream",
     "text": [
      "483\n",
      "115\n"
     ]
    }
   ],
   "source": [
    "date = \"2020-11-01\"\n",
    "sub = md.loc[md[\"date_collected\"].between( \"2020-11-01\", \"2020-12-01\")]\n",
    "comA = set( sub.loc[sub[\"site\"]==\"San Diego\",\"accession_id\"].to_list() )\n",
    "comB = set( sub.loc[sub[\"site\"]==\"Baja California\",\"accession_id\"].to_list() )\n",
    "print( len( comA ) )\n",
    "print( len( comB ) )"
   ],
   "metadata": {
    "collapsed": false,
    "pycharm": {
     "name": "#%%\n"
    }
   }
  },
  {
   "cell_type": "code",
   "execution_count": 57,
   "outputs": [
    {
     "data": {
      "text/plain": "DatetimeIndex(['2021-11-05', '2021-11-06', '2021-11-07', '2021-11-08',\n               '2021-11-09', '2021-11-10', '2021-11-11', '2021-11-12',\n               '2021-11-13', '2021-11-14', '2021-11-15', '2021-11-16',\n               '2021-11-17', '2021-11-18', '2021-11-19', '2021-11-20',\n               '2021-11-21', '2021-11-22', '2021-11-23', '2021-11-24',\n               '2021-11-25', '2021-11-26', '2021-11-27', '2021-11-28',\n               '2021-11-29', '2021-11-30', '2021-12-01', '2021-12-02',\n               '2021-12-03', '2021-12-04'],\n              dtype='datetime64[ns]', freq='D')"
     },
     "execution_count": 57,
     "metadata": {},
     "output_type": "execute_result"
    }
   ],
   "source": [
    "temp"
   ],
   "metadata": {
    "collapsed": false,
    "pycharm": {
     "name": "#%%\n"
    }
   }
  },
  {
   "cell_type": "code",
   "execution_count": 38,
   "outputs": [
    {
     "name": "stdout",
     "output_type": "stream",
     "text": [
      "204.0\n",
      "112.0\n",
      "72.0\n"
     ]
    }
   ],
   "source": [
    "blA = 0\n",
    "blB = 0\n",
    "blBoth = 0\n",
    "for i in t.leaf_nodes():\n",
    "    if i.taxon.label in comA:\n",
    "        for j in i.ancestor_iter():\n",
    "            if getattr( j, \"comA\", False ):\n",
    "                break\n",
    "            elif j.edge.length is not None:\n",
    "                j.comA = True\n",
    "                blA += j.edge.length\n",
    "                if getattr( j, \"comB\", False ):\n",
    "                    blBoth += j.edge.length\n",
    "    elif i.taxon.label in comB:\n",
    "        for j in i.ancestor_iter():\n",
    "            if getattr( j, \"comB\", False ):\n",
    "                break\n",
    "            elif j.edge.length is not None:\n",
    "                j.comB = True\n",
    "                blB += j.edge.length\n",
    "                if getattr( j, \"comA\", False ):\n",
    "                    blBoth += j.edge.length\n",
    "print( blA )\n",
    "print( blB )\n",
    "print( blBoth )"
   ],
   "metadata": {
    "collapsed": false,
    "pycharm": {
     "name": "#%%\n"
    }
   }
  },
  {
   "cell_type": "code",
   "execution_count": 35,
   "outputs": [
    {
     "data": {
      "text/plain": "False"
     },
     "execution_count": 35,
     "metadata": {},
     "output_type": "execute_result"
    }
   ],
   "source": [
    "getattr( t.internal_nodes()[100], \"comA\", False )"
   ],
   "metadata": {
    "collapsed": false,
    "pycharm": {
     "name": "#%%\n"
    }
   }
  },
  {
   "cell_type": "code",
   "execution_count": 62,
   "outputs": [
    {
     "data": {
      "text/plain": "   Unnamed: 0    blA   blB  blBoth      siteA  countA            siteB  \\\n0           0  156.0  46.0    46.0  San Diego     271  Baja California   \n1           1  158.0  46.0    46.0  San Diego     276  Baja California   \n2           2  159.0  49.0    46.0  San Diego     283  Baja California   \n3           3  162.0  52.0    49.0  San Diego     291  Baja California   \n4           4  163.0  52.0    49.0  San Diego     300  Baja California   \n\n   countB     value  \n0       6  0.455446  \n1       6  0.450980  \n2       7  0.442308  \n3      10  0.457944  \n4      12  0.455814  ",
      "text/html": "<div>\n<style scoped>\n    .dataframe tbody tr th:only-of-type {\n        vertical-align: middle;\n    }\n\n    .dataframe tbody tr th {\n        vertical-align: top;\n    }\n\n    .dataframe thead th {\n        text-align: right;\n    }\n</style>\n<table border=\"1\" class=\"dataframe\">\n  <thead>\n    <tr style=\"text-align: right;\">\n      <th></th>\n      <th>Unnamed: 0</th>\n      <th>blA</th>\n      <th>blB</th>\n      <th>blBoth</th>\n      <th>siteA</th>\n      <th>countA</th>\n      <th>siteB</th>\n      <th>countB</th>\n      <th>value</th>\n    </tr>\n  </thead>\n  <tbody>\n    <tr>\n      <th>0</th>\n      <td>0</td>\n      <td>156.0</td>\n      <td>46.0</td>\n      <td>46.0</td>\n      <td>San Diego</td>\n      <td>271</td>\n      <td>Baja California</td>\n      <td>6</td>\n      <td>0.455446</td>\n    </tr>\n    <tr>\n      <th>1</th>\n      <td>1</td>\n      <td>158.0</td>\n      <td>46.0</td>\n      <td>46.0</td>\n      <td>San Diego</td>\n      <td>276</td>\n      <td>Baja California</td>\n      <td>6</td>\n      <td>0.450980</td>\n    </tr>\n    <tr>\n      <th>2</th>\n      <td>2</td>\n      <td>159.0</td>\n      <td>49.0</td>\n      <td>46.0</td>\n      <td>San Diego</td>\n      <td>283</td>\n      <td>Baja California</td>\n      <td>7</td>\n      <td>0.442308</td>\n    </tr>\n    <tr>\n      <th>3</th>\n      <td>3</td>\n      <td>162.0</td>\n      <td>52.0</td>\n      <td>49.0</td>\n      <td>San Diego</td>\n      <td>291</td>\n      <td>Baja California</td>\n      <td>10</td>\n      <td>0.457944</td>\n    </tr>\n    <tr>\n      <th>4</th>\n      <td>4</td>\n      <td>163.0</td>\n      <td>52.0</td>\n      <td>49.0</td>\n      <td>San Diego</td>\n      <td>300</td>\n      <td>Baja California</td>\n      <td>12</td>\n      <td>0.455814</td>\n    </tr>\n  </tbody>\n</table>\n</div>"
     },
     "execution_count": 62,
     "metadata": {},
     "output_type": "execute_result"
    }
   ],
   "source": [
    "results = pd.read_csv( \"/Users/natem/Dropbox (Scripps Research)/Personal/Code/Python/monterey/test/test_phylosor/sd_bc.csv\" )\n",
    "results.head()"
   ],
   "metadata": {
    "collapsed": false,
    "pycharm": {
     "name": "#%%\n"
    }
   }
  },
  {
   "cell_type": "code",
   "execution_count": 63,
   "outputs": [
    {
     "data": {
      "text/plain": "<AxesSubplot:>"
     },
     "execution_count": 63,
     "metadata": {},
     "output_type": "execute_result"
    },
    {
     "data": {
      "text/plain": "<Figure size 432x288 with 1 Axes>",
      "image/png": "[encoded data removed]"
     },
     "metadata": {
      "needs_background": "light"
     },
     "output_type": "display_data"
    }
   ],
   "source": [
    "results.plot( y=\"value\" )"
   ],
   "metadata": {
    "collapsed": false,
    "pycharm": {
     "name": "#%%\n"
    }
   }
  }
 ],
 "metadata": {
  "kernelspec": {
   "display_name": "Python 3",
   "language": "python",
   "name": "python3"
  },
  "language_info": {
   "codemirror_mode": {
    "name": "ipython",
    "version": 2
   },
   "file_extension": ".py",
   "mimetype": "text/x-python",
   "name": "python",
   "nbconvert_exporter": "python",
   "pygments_lexer": "ipython2",
   "version": "2.7.6"
  }
 },
 "nbformat": 4,
 "nbformat_minor": 0
}